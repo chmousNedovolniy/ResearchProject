{
 "cells": [
  {
   "cell_type": "markdown",
   "metadata": {},
   "source": [
    "# 1. Setup"
   ]
  },
  {
   "cell_type": "markdown",
   "metadata": {},
   "source": [
    "## 1.1. Loading packages"
   ]
  },
  {
   "cell_type": "code",
   "execution_count": 250,
   "metadata": {},
   "outputs": [],
   "source": [
    "import pandas as pd\n",
    "#!pip install numpy\n",
    "import numpy as np\n",
    "import matplotlib.pyplot as plt\n",
    "#from matplotlib import cm\n",
    "import seaborn as sns\n",
    "import sklearn\n",
    "import scipy\n",
    "\n",
    "import os\n",
    "import time\n",
    "import glob\n",
    "import pickle\n",
    "from tqdm import trange\n",
    "from copy import deepcopy\n",
    "\n",
    "import itertools\n",
    "import math\n",
    "\n",
    "# !pip install eeglib\n",
    "import eeglib\n",
    "# !pip install git+https://github.com/forrestbao/pyeeg.git\n",
    "# import pyeeg\n",
    "\n",
    "# !pip install pymrmre\n",
    "from pymrmre import mrmr\n",
    "\n",
    "from scipy import signal\n",
    "from scipy.signal import welch\n",
    "from scipy.integrate import simps\n",
    "from scipy.stats import f_oneway\n",
    "\n",
    "from sklearn.utils import shuffle\n",
    "from sklearn.model_selection import KFold\n",
    "from sklearn.decomposition import PCA\n",
    "from sklearn.svm import SVC \n",
    "from sklearn.model_selection import train_test_split\n",
    "from sklearn.preprocessing import StandardScaler\n",
    "from sklearn.svm import SVC\n",
    "from sklearn.neighbors import KNeighborsClassifier\n",
    "from sklearn.neural_network import MLPClassifier\n",
    "from sklearn import model_selection\n",
    "from sklearn.metrics import classification_report, confusion_matrix\n",
    "from sklearn.metrics import accuracy_score\n",
    "from sklearn.metrics import precision_recall_curve\n",
    "\n",
    "# !pip install mne==0.22.0\n",
    "import mne\n",
    "from mne.preprocessing import (ICA, create_eog_epochs, create_ecg_epochs, corrmap)\n",
    "from mne.time_frequency import psd_welch\n",
    "from mne.decoding import cross_val_multiscore\n",
    "\n",
    "# !pip install fooof\n",
    "# from fooof import FOOOFGroup\n",
    "# from fooof.bands import Bands\n",
    "# from fooof.analysis import get_band_peak_fg\n",
    "# from fooof.plts.spectra import plot_spectrum\n",
    "\n",
    "#import matplotlib.pyplot as plt\n",
    "\n",
    "%matplotlib inline"
   ]
  },
  {
   "cell_type": "markdown",
   "metadata": {},
   "source": [
    "## 1.2. Loading DEAP dataset"
   ]
  },
  {
   "cell_type": "code",
   "execution_count": 2,
   "metadata": {},
   "outputs": [
    {
     "name": "stdout",
     "output_type": "stream",
     "text": [
      "01 02 03 04 05 06 07 08 09 10 11 12 13 14 15 16 17 18 19 20 21 22\n"
     ]
    }
   ],
   "source": [
    "# Generating filenames.\n",
    "filenames = []\n",
    "participant_count = 22\n",
    "for i in range(1, participant_count + 1): \n",
    "    name = ''\n",
    "    if i < 10:\n",
    "        name += '0'\n",
    "    name += str(i)\n",
    "    filenames.append(name)\n",
    "print(*filenames)"
   ]
  },
  {
   "cell_type": "code",
   "execution_count": 3,
   "metadata": {},
   "outputs": [],
   "source": [
    "data, labels = [], []\n",
    "\n",
    "# Filling data and labels.\n",
    "for filename in filenames: \n",
    "    path = \"project_data/s\" + filename + \".dat\"\n",
    "    raw_trial = pickle._Unpickler(open(path, 'rb'))\n",
    "    raw_trial.encoding = 'latin1'\n",
    "    trial = raw_trial.load()\n",
    "    data.append(trial['data'])\n",
    "    labels.append(trial['labels'])\n",
    "\n",
    "# Each of participant_count (max to 32) participants did 40 trials, resulting in total of 1080 trials\n",
    "# Data should be reshaped to (trials=participant_count * 40, channes=40, raw_data=8064)\n",
    "total_channels = 40\n",
    "trial_count = 40\n",
    "data = np.array(data)\n",
    "data = data.flatten()\n",
    "data = data.reshape(participant_count * trial_count, total_channels, 8064)\n",
    "\n",
    "# Labels should be reshaped to (trials=participant_count * 40, labels=4)\n",
    "labels = np.array(labels)\n",
    "labels = labels.flatten()\n",
    "labels = labels.reshape(participant_count * trial_count, 4)"
   ]
  },
  {
   "cell_type": "code",
   "execution_count": 4,
   "metadata": {},
   "outputs": [
    {
     "name": "stdout",
     "output_type": "stream",
     "text": [
      "Data: (880, 40, 8064)\n",
      "Labels: (880, 4)\n"
     ]
    }
   ],
   "source": [
    "print('Data:', data.shape)\n",
    "print('Labels:', labels.shape)"
   ]
  },
  {
   "cell_type": "markdown",
   "metadata": {},
   "source": [
    "# 2. Pre-processing data"
   ]
  },
  {
   "cell_type": "markdown",
   "metadata": {},
   "source": [
    "## 2.1. Valence and Arousal ratings"
   ]
  },
  {
   "cell_type": "code",
   "execution_count": 5,
   "metadata": {},
   "outputs": [],
   "source": [
    "df_label_ratings = pd.DataFrame({'Valence': labels[:,0], 'Arousal': labels[:,1]})"
   ]
  },
  {
   "cell_type": "code",
   "execution_count": 6,
   "metadata": {},
   "outputs": [
    {
     "data": {
      "text/html": [
       "<div>\n",
       "<style scoped>\n",
       "    .dataframe tbody tr th:only-of-type {\n",
       "        vertical-align: middle;\n",
       "    }\n",
       "\n",
       "    .dataframe tbody tr th {\n",
       "        vertical-align: top;\n",
       "    }\n",
       "\n",
       "    .dataframe thead th {\n",
       "        text-align: right;\n",
       "    }\n",
       "</style>\n",
       "<table border=\"1\" class=\"dataframe\">\n",
       "  <thead>\n",
       "    <tr style=\"text-align: right;\">\n",
       "      <th></th>\n",
       "      <th>Valence</th>\n",
       "      <th>Arousal</th>\n",
       "    </tr>\n",
       "  </thead>\n",
       "  <tbody>\n",
       "    <tr>\n",
       "      <th>count</th>\n",
       "      <td>880.000000</td>\n",
       "      <td>880.000000</td>\n",
       "    </tr>\n",
       "    <tr>\n",
       "      <th>mean</th>\n",
       "      <td>5.218034</td>\n",
       "      <td>5.238898</td>\n",
       "    </tr>\n",
       "    <tr>\n",
       "      <th>std</th>\n",
       "      <td>2.093837</td>\n",
       "      <td>1.879631</td>\n",
       "    </tr>\n",
       "    <tr>\n",
       "      <th>min</th>\n",
       "      <td>1.000000</td>\n",
       "      <td>1.000000</td>\n",
       "    </tr>\n",
       "    <tr>\n",
       "      <th>25%</th>\n",
       "      <td>3.650000</td>\n",
       "      <td>3.895000</td>\n",
       "    </tr>\n",
       "    <tr>\n",
       "      <th>50%</th>\n",
       "      <td>5.040000</td>\n",
       "      <td>5.490000</td>\n",
       "    </tr>\n",
       "    <tr>\n",
       "      <th>75%</th>\n",
       "      <td>7.040000</td>\n",
       "      <td>6.795000</td>\n",
       "    </tr>\n",
       "    <tr>\n",
       "      <th>max</th>\n",
       "      <td>9.000000</td>\n",
       "      <td>9.000000</td>\n",
       "    </tr>\n",
       "  </tbody>\n",
       "</table>\n",
       "</div>"
      ],
      "text/plain": [
       "          Valence     Arousal\n",
       "count  880.000000  880.000000\n",
       "mean     5.218034    5.238898\n",
       "std      2.093837    1.879631\n",
       "min      1.000000    1.000000\n",
       "25%      3.650000    3.895000\n",
       "50%      5.040000    5.490000\n",
       "75%      7.040000    6.795000\n",
       "max      9.000000    9.000000"
      ]
     },
     "execution_count": 6,
     "metadata": {},
     "output_type": "execute_result"
    }
   ],
   "source": [
    "df_label_ratings.describe()"
   ]
  },
  {
   "cell_type": "markdown",
   "metadata": {},
   "source": [
    "Let's devide valence and arousal into 2 categories: High and low."
   ]
  },
  {
   "cell_type": "code",
   "execution_count": 7,
   "metadata": {},
   "outputs": [],
   "source": [
    "def high_valence(trial):\n",
    "    return 1 if labels[trial, 0] >= np.median(labels[:,0]) else 0\n",
    "\n",
    "def high_arousal(trial):\n",
    "    return 1 if labels[trial, 1] >= np.median(labels[:,1]) else 0"
   ]
  },
  {
   "cell_type": "code",
   "execution_count": 8,
   "metadata": {},
   "outputs": [],
   "source": [
    "labels_encoded = []\n",
    "for i in range (len(labels)):\n",
    "    labels_encoded.append([high_valence(i), high_arousal(i)])\n",
    "labels_encoded = np.reshape(labels_encoded, (participant_count * trial_count, 2))\n",
    "df_labels = pd.DataFrame(data=labels_encoded, columns=[\"Valence\", \"Arousal\"])"
   ]
  },
  {
   "cell_type": "code",
   "execution_count": 9,
   "metadata": {},
   "outputs": [
    {
     "data": {
      "text/html": [
       "<div>\n",
       "<style scoped>\n",
       "    .dataframe tbody tr th:only-of-type {\n",
       "        vertical-align: middle;\n",
       "    }\n",
       "\n",
       "    .dataframe tbody tr th {\n",
       "        vertical-align: top;\n",
       "    }\n",
       "\n",
       "    .dataframe thead th {\n",
       "        text-align: right;\n",
       "    }\n",
       "</style>\n",
       "<table border=\"1\" class=\"dataframe\">\n",
       "  <thead>\n",
       "    <tr style=\"text-align: right;\">\n",
       "      <th></th>\n",
       "      <th>Valence</th>\n",
       "      <th>Arousal</th>\n",
       "    </tr>\n",
       "  </thead>\n",
       "  <tbody>\n",
       "    <tr>\n",
       "      <th>0</th>\n",
       "      <td>1</td>\n",
       "      <td>1</td>\n",
       "    </tr>\n",
       "    <tr>\n",
       "      <th>1</th>\n",
       "      <td>1</td>\n",
       "      <td>1</td>\n",
       "    </tr>\n",
       "    <tr>\n",
       "      <th>2</th>\n",
       "      <td>1</td>\n",
       "      <td>1</td>\n",
       "    </tr>\n",
       "    <tr>\n",
       "      <th>3</th>\n",
       "      <td>0</td>\n",
       "      <td>1</td>\n",
       "    </tr>\n",
       "    <tr>\n",
       "      <th>4</th>\n",
       "      <td>1</td>\n",
       "      <td>0</td>\n",
       "    </tr>\n",
       "  </tbody>\n",
       "</table>\n",
       "</div>"
      ],
      "text/plain": [
       "   Valence  Arousal\n",
       "0        1        1\n",
       "1        1        1\n",
       "2        1        1\n",
       "3        0        1\n",
       "4        1        0"
      ]
     },
     "execution_count": 9,
     "metadata": {},
     "output_type": "execute_result"
    }
   ],
   "source": [
    "df_labels.head(5)"
   ]
  },
  {
   "cell_type": "code",
   "execution_count": 10,
   "metadata": {},
   "outputs": [],
   "source": [
    "df_valence = df_labels['Valence']\n",
    "df_arousal = df_labels['Arousal']"
   ]
  },
  {
   "cell_type": "markdown",
   "metadata": {},
   "source": [
    "Considering Valence and Arousal as High or Low, we can devide these combinations of labels into 4 categories:\n",
    "1. High Arousal High Valence\n",
    "2. Low Arousal High Valence\n",
    "3. High Arousal Low Valence\n",
    "4. Low Arousal Low Valence"
   ]
  },
  {
   "cell_type": "code",
   "execution_count": 11,
   "metadata": {},
   "outputs": [],
   "source": [
    "# High Arousal High Valence dataset\n",
    "df_hahv = df_label_ratings[(df_label_ratings['Valence'] >= np.median(labels[:,0])) & (df_label_ratings['Arousal'] >= np.median(labels[:,1]))]\n",
    "# Low Arousal High Valence dataset\n",
    "df_lahv = df_label_ratings[(df_label_ratings['Valence'] >= np.median(labels[:,0])) & (df_label_ratings['Arousal'] < np.median(labels[:,1]))]\n",
    "# High Arousal Low Valence dataset\n",
    "df_halv = df_label_ratings[(df_label_ratings['Valence'] < np.median(labels[:,0])) & (df_label_ratings['Arousal'] >= np.median(labels[:,1]))]\n",
    "# Low Arousal Low Valence dataset\n",
    "df_lalv = df_label_ratings[(df_label_ratings['Valence'] < np.median(labels[:,0])) & (df_label_ratings['Arousal'] < np.median(labels[:,1]))]"
   ]
  },
  {
   "cell_type": "code",
   "execution_count": 12,
   "metadata": {},
   "outputs": [
    {
     "name": "stdout",
     "output_type": "stream",
     "text": [
      "High Arousal High Valence Count: 242\n",
      "Low Arousal High Valence Count: 215\n",
      "High Arousal Low Valence Count: 200\n",
      "Low Arousal Low Valence Count: 223\n"
     ]
    }
   ],
   "source": [
    "print(\"High Arousal High Valence Count:\", len(df_hahv))\n",
    "print(\"Low Arousal High Valence Count:\", len(df_lahv))\n",
    "print(\"High Arousal Low Valence Count:\", len(df_halv))\n",
    "print(\"Low Arousal Low Valence Count:\", len(df_lalv))"
   ]
  },
  {
   "cell_type": "code",
   "execution_count": 13,
   "metadata": {},
   "outputs": [
    {
     "name": "stdout",
     "output_type": "stream",
     "text": [
      "HAHV\n",
      "Valence: Mean 7.12 STD 1.04\n",
      "Arousal: Mean 6.81 STD 0.84\n",
      "\n",
      "LAHV:\n",
      "Valence: Mean 6.67 STD 1.09\n",
      "Arousal: Mean 3.87 STD 1.09\n",
      "\n",
      "HALV:\n",
      "Valence: Mean 3.19 STD 1.23\n",
      "Arousal: Mean 6.79 STD 0.96\n",
      "\n",
      "LALV:\n",
      "Valence: Mean 3.57 STD 1.12\n",
      "Arousal: Mean 3.47 STD 1.19\n"
     ]
    }
   ],
   "source": [
    "print(\"HAHV\")\n",
    "print(\"Valence:\", \"Mean\", np.round(df_hahv['Valence'].mean(),2), \"STD\", np.round(df_hahv['Valence'].std(),2))\n",
    "print(\"Arousal:\", \"Mean\", np.round(df_hahv['Arousal'].mean(),2), \"STD\", np.round(df_hahv['Arousal'].std(),2))\n",
    "print()\n",
    "print(\"LAHV:\")\n",
    "print(\"Valence:\", \"Mean\", np.round(df_lahv['Valence'].mean(),2), \"STD\", np.round(df_lahv['Valence'].std(),2))\n",
    "print(\"Arousal:\", \"Mean\", np.round(df_lahv['Arousal'].mean(),2), \"STD\", np.round(df_lahv['Arousal'].std(),2))\n",
    "print()\n",
    "print(\"HALV:\")\n",
    "print(\"Valence:\", \"Mean\", np.round(df_halv['Valence'].mean(),2), \"STD\", np.round(df_halv['Valence'].std(),2))\n",
    "print(\"Arousal:\", \"Mean\", np.round(df_halv['Arousal'].mean(),2), \"STD\", np.round(df_halv['Arousal'].std(),2))\n",
    "print()\n",
    "print(\"LALV:\")\n",
    "print(\"Valence:\", \"Mean\", np.round(df_lalv['Valence'].mean(),2), \"STD\", np.round(df_lalv['Valence'].std(),2))\n",
    "print(\"Arousal:\", \"Mean\", np.round(df_lalv['Arousal'].mean(),2), \"STD\", np.round(df_lalv['Arousal'].std(),2))"
   ]
  },
  {
   "cell_type": "code",
   "execution_count": 14,
   "metadata": {},
   "outputs": [
    {
     "data": {
      "text/plain": [
       "{'whiskers': [<matplotlib.lines.Line2D at 0x1c9a86e8e80>,\n",
       "  <matplotlib.lines.Line2D at 0x1c9a86f2220>,\n",
       "  <matplotlib.lines.Line2D at 0x1c9a86fd6a0>,\n",
       "  <matplotlib.lines.Line2D at 0x1c9a86fda00>,\n",
       "  <matplotlib.lines.Line2D at 0x1c9a8708e80>,\n",
       "  <matplotlib.lines.Line2D at 0x1c9a8714220>,\n",
       "  <matplotlib.lines.Line2D at 0x1c9a87206a0>,\n",
       "  <matplotlib.lines.Line2D at 0x1c9a8720a00>],\n",
       " 'caps': [<matplotlib.lines.Line2D at 0x1c9a86f2580>,\n",
       "  <matplotlib.lines.Line2D at 0x1c9a86f28e0>,\n",
       "  <matplotlib.lines.Line2D at 0x1c9a86fdd60>,\n",
       "  <matplotlib.lines.Line2D at 0x1c9a8708100>,\n",
       "  <matplotlib.lines.Line2D at 0x1c9a8714580>,\n",
       "  <matplotlib.lines.Line2D at 0x1c9a87148e0>,\n",
       "  <matplotlib.lines.Line2D at 0x1c9a8720d60>,\n",
       "  <matplotlib.lines.Line2D at 0x1c9a872c100>],\n",
       " 'boxes': [<matplotlib.lines.Line2D at 0x1c9a86e8b20>,\n",
       "  <matplotlib.lines.Line2D at 0x1c9a86fd340>,\n",
       "  <matplotlib.lines.Line2D at 0x1c9a8708b20>,\n",
       "  <matplotlib.lines.Line2D at 0x1c9a8720340>],\n",
       " 'medians': [<matplotlib.lines.Line2D at 0x1c9a86f2c40>,\n",
       "  <matplotlib.lines.Line2D at 0x1c9a8708460>,\n",
       "  <matplotlib.lines.Line2D at 0x1c9a8714c40>,\n",
       "  <matplotlib.lines.Line2D at 0x1c9a872c460>],\n",
       " 'fliers': [<matplotlib.lines.Line2D at 0x1c9a86f2fa0>,\n",
       "  <matplotlib.lines.Line2D at 0x1c9a87087c0>,\n",
       "  <matplotlib.lines.Line2D at 0x1c9a8714fa0>,\n",
       "  <matplotlib.lines.Line2D at 0x1c9a872c7c0>],\n",
       " 'means': []}"
      ]
     },
     "execution_count": 14,
     "metadata": {},
     "output_type": "execute_result"
    },
    {
     "data": {
      "image/png": "[encoded data removed]",
      "text/plain": [
       "<Figure size 864x288 with 2 Axes>"
      ]
     },
     "metadata": {
      "needs_background": "light"
     },
     "output_type": "display_data"
    }
   ],
   "source": [
    "fig, axs = plt.subplots(1, 2, figsize=(12,4))\n",
    "\n",
    "axs[0].set_title(\"Valence\")\n",
    "axs[0].set_ylim(1, 9)\n",
    "axs[0].boxplot([df_hahv['Valence'], df_lahv['Valence'], df_halv['Valence'], df_lalv['Valence']], labels=['HAHV','LAHV','HALV', 'LALV'])\n",
    "\n",
    "axs[1].set_title(\"Arousal\")\n",
    "axs[1].set_ylim(1, 9)\n",
    "axs[1].boxplot([df_hahv['Arousal'], df_lahv['Arousal'], df_halv['Arousal'], df_lalv['Arousal']], labels=['HAHV','LAHV','HALV', 'LALV'])"
   ]
  },
  {
   "cell_type": "markdown",
   "metadata": {},
   "source": [
    "Let's encode\n",
    "- 1 - HAHV\n",
    "- 2 - LAHV\n",
    "- 3 - HALV\n",
    "- 4 - LALV"
   ]
  },
  {
   "cell_type": "code",
   "execution_count": 15,
   "metadata": {},
   "outputs": [],
   "source": [
    "def get_state(i):\n",
    "    valence = high_valence(i)\n",
    "    arousal = high_arousal(i)\n",
    "    if valence and arousal:\n",
    "        return 'HAHV'\n",
    "    elif valence and not arousal:\n",
    "        return 'LAHV'\n",
    "    elif not valence and arousal:\n",
    "        return 'HALV'\n",
    "    else:\n",
    "        return 'LALV'"
   ]
  },
  {
   "cell_type": "code",
   "execution_count": 16,
   "metadata": {},
   "outputs": [],
   "source": [
    "def get_state_code(state):\n",
    "    if state == 'HAHV':\n",
    "        return 1\n",
    "    elif state == 'LAHV':\n",
    "        return 2\n",
    "    elif state == 'HALV':\n",
    "        return 3\n",
    "    elif state == 'LALV':\n",
    "        return 4\n",
    "    else:\n",
    "        return -1"
   ]
  },
  {
   "cell_type": "code",
   "execution_count": 17,
   "metadata": {},
   "outputs": [],
   "source": [
    "state_encoded = []\n",
    "state_name = []\n",
    "for i in range (len(labels)):\n",
    "    state = get_state(i)\n",
    "    state_name.append(state)\n",
    "    state_encoded.append(get_state_code(state))"
   ]
  },
  {
   "cell_type": "code",
   "execution_count": 18,
   "metadata": {},
   "outputs": [],
   "source": [
    "df_labels['State_code'] = state_encoded\n",
    "df_labels['State_name'] = state_name"
   ]
  },
  {
   "cell_type": "code",
   "execution_count": 19,
   "metadata": {},
   "outputs": [
    {
     "data": {
      "text/html": [
       "<div>\n",
       "<style scoped>\n",
       "    .dataframe tbody tr th:only-of-type {\n",
       "        vertical-align: middle;\n",
       "    }\n",
       "\n",
       "    .dataframe tbody tr th {\n",
       "        vertical-align: top;\n",
       "    }\n",
       "\n",
       "    .dataframe thead th {\n",
       "        text-align: right;\n",
       "    }\n",
       "</style>\n",
       "<table border=\"1\" class=\"dataframe\">\n",
       "  <thead>\n",
       "    <tr style=\"text-align: right;\">\n",
       "      <th></th>\n",
       "      <th>Valence</th>\n",
       "      <th>Arousal</th>\n",
       "      <th>State_code</th>\n",
       "      <th>State_name</th>\n",
       "    </tr>\n",
       "  </thead>\n",
       "  <tbody>\n",
       "    <tr>\n",
       "      <th>0</th>\n",
       "      <td>1</td>\n",
       "      <td>1</td>\n",
       "      <td>1</td>\n",
       "      <td>HAHV</td>\n",
       "    </tr>\n",
       "    <tr>\n",
       "      <th>1</th>\n",
       "      <td>1</td>\n",
       "      <td>1</td>\n",
       "      <td>1</td>\n",
       "      <td>HAHV</td>\n",
       "    </tr>\n",
       "    <tr>\n",
       "      <th>2</th>\n",
       "      <td>1</td>\n",
       "      <td>1</td>\n",
       "      <td>1</td>\n",
       "      <td>HAHV</td>\n",
       "    </tr>\n",
       "    <tr>\n",
       "      <th>3</th>\n",
       "      <td>0</td>\n",
       "      <td>1</td>\n",
       "      <td>3</td>\n",
       "      <td>HALV</td>\n",
       "    </tr>\n",
       "    <tr>\n",
       "      <th>4</th>\n",
       "      <td>1</td>\n",
       "      <td>0</td>\n",
       "      <td>2</td>\n",
       "      <td>LAHV</td>\n",
       "    </tr>\n",
       "  </tbody>\n",
       "</table>\n",
       "</div>"
      ],
      "text/plain": [
       "   Valence  Arousal  State_code State_name\n",
       "0        1        1           1       HAHV\n",
       "1        1        1           1       HAHV\n",
       "2        1        1           1       HAHV\n",
       "3        0        1           3       HALV\n",
       "4        1        0           2       LAHV"
      ]
     },
     "execution_count": 19,
     "metadata": {},
     "output_type": "execute_result"
    }
   ],
   "source": [
    "df_labels.head(5)"
   ]
  },
  {
   "cell_type": "code",
   "execution_count": 20,
   "metadata": {},
   "outputs": [
    {
     "data": {
      "text/html": [
       "<div>\n",
       "<style scoped>\n",
       "    .dataframe tbody tr th:only-of-type {\n",
       "        vertical-align: middle;\n",
       "    }\n",
       "\n",
       "    .dataframe tbody tr th {\n",
       "        vertical-align: top;\n",
       "    }\n",
       "\n",
       "    .dataframe thead th {\n",
       "        text-align: right;\n",
       "    }\n",
       "</style>\n",
       "<table border=\"1\" class=\"dataframe\">\n",
       "  <thead>\n",
       "    <tr style=\"text-align: right;\">\n",
       "      <th></th>\n",
       "      <th>Valence</th>\n",
       "      <th>Arousal</th>\n",
       "      <th>State_code</th>\n",
       "    </tr>\n",
       "  </thead>\n",
       "  <tbody>\n",
       "    <tr>\n",
       "      <th>count</th>\n",
       "      <td>880.000000</td>\n",
       "      <td>880.000000</td>\n",
       "      <td>880.000000</td>\n",
       "    </tr>\n",
       "    <tr>\n",
       "      <th>mean</th>\n",
       "      <td>0.519318</td>\n",
       "      <td>0.502273</td>\n",
       "      <td>2.459091</td>\n",
       "    </tr>\n",
       "    <tr>\n",
       "      <th>std</th>\n",
       "      <td>0.499911</td>\n",
       "      <td>0.500279</td>\n",
       "      <td>1.143079</td>\n",
       "    </tr>\n",
       "    <tr>\n",
       "      <th>min</th>\n",
       "      <td>0.000000</td>\n",
       "      <td>0.000000</td>\n",
       "      <td>1.000000</td>\n",
       "    </tr>\n",
       "    <tr>\n",
       "      <th>25%</th>\n",
       "      <td>0.000000</td>\n",
       "      <td>0.000000</td>\n",
       "      <td>1.000000</td>\n",
       "    </tr>\n",
       "    <tr>\n",
       "      <th>50%</th>\n",
       "      <td>1.000000</td>\n",
       "      <td>1.000000</td>\n",
       "      <td>2.000000</td>\n",
       "    </tr>\n",
       "    <tr>\n",
       "      <th>75%</th>\n",
       "      <td>1.000000</td>\n",
       "      <td>1.000000</td>\n",
       "      <td>4.000000</td>\n",
       "    </tr>\n",
       "    <tr>\n",
       "      <th>max</th>\n",
       "      <td>1.000000</td>\n",
       "      <td>1.000000</td>\n",
       "      <td>4.000000</td>\n",
       "    </tr>\n",
       "  </tbody>\n",
       "</table>\n",
       "</div>"
      ],
      "text/plain": [
       "          Valence     Arousal  State_code\n",
       "count  880.000000  880.000000  880.000000\n",
       "mean     0.519318    0.502273    2.459091\n",
       "std      0.499911    0.500279    1.143079\n",
       "min      0.000000    0.000000    1.000000\n",
       "25%      0.000000    0.000000    1.000000\n",
       "50%      1.000000    1.000000    2.000000\n",
       "75%      1.000000    1.000000    4.000000\n",
       "max      1.000000    1.000000    4.000000"
      ]
     },
     "execution_count": 20,
     "metadata": {},
     "output_type": "execute_result"
    }
   ],
   "source": [
    "df_labels.describe()"
   ]
  },
  {
   "cell_type": "code",
   "execution_count": 21,
   "metadata": {},
   "outputs": [],
   "source": [
    "df_state = df_labels['State_code']"
   ]
  },
  {
   "cell_type": "markdown",
   "metadata": {},
   "source": [
    "## 2.2. Separating EEg data from peripheral psychological channels"
   ]
  },
  {
   "cell_type": "markdown",
   "metadata": {},
   "source": [
    "The dataset includes 32 EEG channels and 8 peripheral physiological channels. Let's exclude the latter."
   ]
  },
  {
   "cell_type": "code",
   "execution_count": 22,
   "metadata": {},
   "outputs": [],
   "source": [
    "eeg_channels = np.array([\"Fp1\", \"AF3\", \"F3\", \"F7\", \"FC5\", \"FC1\", \"C3\", \"T7\", \"CP5\", \"CP1\", \"P3\", \"P7\", \"PO3\", \"O1\", \"Oz\", \"Pz\", \"Fp2\", \"AF4\", \"Fz\", \"F4\", \"F8\", \"FC6\", \"FC2\", \"Cz\", \"C4\", \"T8\", \"CP6\", \"CP2\", \"P4\", \"P8\", \"PO4\", \"O2\"])\n",
    "peripheral_channels = np.array([\"hEOG\", \"vEOG\", \"zEMG\", \"tEMG\", \"GSR\", \"Respiration belt\", \"Plethysmograph\", \"Temperature\"])"
   ]
  },
  {
   "cell_type": "code",
   "execution_count": 23,
   "metadata": {},
   "outputs": [
    {
     "name": "stdout",
     "output_type": "stream",
     "text": [
      "Fp1 AF3 F3 F7 FC5 FC1 C3 T7 CP5 CP1 P3 P7 PO3 O1 Oz Pz Fp2 AF4 Fz F4 F8 FC6 FC2 Cz C4 T8 CP6 CP2 P4 P8 PO4 O2\n"
     ]
    }
   ],
   "source": [
    "print(*eeg_channels)"
   ]
  },
  {
   "cell_type": "code",
   "execution_count": 24,
   "metadata": {},
   "outputs": [
    {
     "name": "stdout",
     "output_type": "stream",
     "text": [
      "(880, 32, 8064)\n"
     ]
    }
   ],
   "source": [
    "eeg_data = []\n",
    "for i in range (len(data)):\n",
    "    for j in range (len(eeg_channels)):\n",
    "        eeg_data.append(data[i,j])\n",
    "eeg_data = np.reshape(eeg_data, (len(data), len(eeg_channels), len(data[0,0])))\n",
    "print(eeg_data.shape)"
   ]
  },
  {
   "cell_type": "code",
   "execution_count": 25,
   "metadata": {},
   "outputs": [
    {
     "name": "stdout",
     "output_type": "stream",
     "text": [
      "(880, 8, 8064)\n"
     ]
    }
   ],
   "source": [
    "peripheral_data = []\n",
    "for i in range (len(data)):\n",
    "    for j in range (32,len(data[0])):\n",
    "        peripheral_data.append(data[i,j])\n",
    "peripheral_data = np.reshape(peripheral_data, (len(data), len(peripheral_channels), len(data[0,0])))\n",
    "print(peripheral_data.shape)"
   ]
  },
  {
   "cell_type": "markdown",
   "metadata": {},
   "source": [
    "# 3. Feature extraction"
   ]
  },
  {
   "cell_type": "markdown",
   "metadata": {},
   "source": [
    "## 3.1. Actually feature extraction"
   ]
  },
  {
   "cell_type": "markdown",
   "metadata": {},
   "source": [
    "For each trial let's extract corresponding features.\n",
    "For each of 32 channels the following features can be calculated:\n",
    "1. Band power for each of 4 frequency ranges (Theta (4, 8), Alpha (8, 12), Beta (12, 30), Gamma (30, 64))\n",
    "2. Statistical features\n",
    "    1. Median\n",
    "    2. Mean\n",
    "    3. Std\n",
    "    4. Max\n",
    "    5. Min\n",
    "    6.  Kurtosis\n",
    "3. Hjorth parameters\n",
    "    1. Activity\n",
    "    2. Mobility\n",
    "    3. Complexity\n",
    "4. Fractal dimension"
   ]
  },
  {
   "cell_type": "markdown",
   "metadata": {},
   "source": [
    "### 3.1. Let's talk about frequency ranges"
   ]
  },
  {
   "cell_type": "markdown",
   "metadata": {},
   "source": [
    "Take a look at data sample of len 8064:"
   ]
  },
  {
   "cell_type": "code",
   "execution_count": 26,
   "metadata": {},
   "outputs": [
    {
     "data": {
      "image/png": "[encoded data removed]",
      "text/plain": [
       "<Figure size 1152x288 with 1 Axes>"
      ]
     },
     "metadata": {},
     "output_type": "display_data"
    }
   ],
   "source": [
    "sns.set(font_scale=1.2)\n",
    "\n",
    "# Define sampling frequency and time vector\n",
    "sf = 128.\n",
    "time = np.arange(eeg_data.size) / sf\n",
    "\n",
    "# Plot the signal of first trial, last channel \n",
    "fig, ax = plt.subplots(1, 1, figsize=(16, 4))\n",
    "plt.plot(eeg_data[0,31], lw=1.5, color='k') \n",
    "plt.xlabel('Time')\n",
    "plt.ylabel('Voltage')\n",
    "sns.despine()"
   ]
  },
  {
   "cell_type": "markdown",
   "metadata": {},
   "source": [
    "Using data above power spectral density may be calculated:"
   ]
  },
  {
   "cell_type": "code",
   "execution_count": 27,
   "metadata": {},
   "outputs": [
    {
     "data": {
      "image/png": "[encoded data removed]",
      "text/plain": [
       "<Figure size 576x288 with 1 Axes>"
      ]
     },
     "metadata": {},
     "output_type": "display_data"
    }
   ],
   "source": [
    "window_length = 4 * sf\n",
    "freqs, psd = signal.welch(eeg_data[0,31], sf, nperseg=window_length)\n",
    "\n",
    "sns.set(font_scale=1.2, style='white')\n",
    "plt.figure(figsize=(8, 4))\n",
    "plt.plot(freqs, psd, color='k', lw=2)\n",
    "plt.xlabel('Frequency (Hz)')\n",
    "plt.ylabel('Power spectral density (V^2 / Hz)')\n",
    "plt.ylim([0, psd.max() * 1.1])\n",
    "plt.title(\"Welch's periodogram\")\n",
    "plt.xlim([0, freqs.max()])\n",
    "sns.despine()"
   ]
  },
  {
   "cell_type": "markdown",
   "metadata": {},
   "source": [
    "Frequency can be devided into 5 diapasons:\n",
    "- Delta (0.5 - 4.0 Hz, not present in data above)\n",
    "- Theta (4.0 - 8.0 Hz)\n",
    "- Alpha (8.0 - 12.0 Hz)\n",
    "- Beta (12.0 - 30.0 Hz)\n",
    "- Gamma (30.0 - 64.0 Hz)"
   ]
  },
  {
   "cell_type": "code",
   "execution_count": 28,
   "metadata": {},
   "outputs": [],
   "source": [
    "def print_frequency_plot(band):\n",
    "    bd = (0,0)\n",
    "    if (band == \"theta\"):\n",
    "        bd = (4, 8)\n",
    "    elif (band == \"alpha\"):\n",
    "        bd = (8, 12)\n",
    "    elif (band == \"beta\"):\n",
    "        bd = (12, 30)\n",
    "    elif (band == \"gamma\"):\n",
    "        bd = (30, 64)\n",
    "    lower_bound, upper_bound = bd[0], bd[1]\n",
    "    idx_theta = np.logical_and(freqs >= lower_bound, freqs <= upper_bound)\n",
    "\n",
    "    # Plot the power spectral density and fill the theta area\n",
    "    plt.figure(figsize=(7, 4))\n",
    "    plt.plot(freqs, psd, lw=2, color='k')\n",
    "    plt.fill_between(freqs, psd, where=idx_theta, color='skyblue')\n",
    "    plt.xlabel('Frequency (Hz)')\n",
    "    plt.ylabel('Power spectral density (uV^2 / Hz)')\n",
    "    plt.xlim([0, 50])\n",
    "    plt.ylim([0, psd.max() * 1.1]) \n",
    "    plt.title(\"Welch's periodogram: \" + band)\n",
    "    sns.despine()"
   ]
  },
  {
   "cell_type": "code",
   "execution_count": 29,
   "metadata": {},
   "outputs": [
    {
     "data": {
      "image/png": "[encoded data removed]",
      "text/plain": [
       "<Figure size 504x288 with 1 Axes>"
      ]
     },
     "metadata": {},
     "output_type": "display_data"
    }
   ],
   "source": [
    "print_frequency_plot('theta')"
   ]
  },
  {
   "cell_type": "code",
   "execution_count": 30,
   "metadata": {},
   "outputs": [
    {
     "data": {
      "image/png": "[encoded data removed]",
      "text/plain": [
       "<Figure size 504x288 with 1 Axes>"
      ]
     },
     "metadata": {},
     "output_type": "display_data"
    }
   ],
   "source": [
    "print_frequency_plot('alpha')"
   ]
  },
  {
   "cell_type": "code",
   "execution_count": 31,
   "metadata": {},
   "outputs": [
    {
     "data": {
      "image/png": "[encoded data removed]",
      "text/plain": [
       "<Figure size 504x288 with 1 Axes>"
      ]
     },
     "metadata": {},
     "output_type": "display_data"
    }
   ],
   "source": [
    "print_frequency_plot('beta')"
   ]
  },
  {
   "cell_type": "code",
   "execution_count": 32,
   "metadata": {},
   "outputs": [
    {
     "data": {
      "image/png": "[encoded data removed]",
      "text/plain": [
       "<Figure size 504x288 with 1 Axes>"
      ]
     },
     "metadata": {},
     "output_type": "display_data"
    }
   ],
   "source": [
    "print_frequency_plot('gamma')"
   ]
  },
  {
   "cell_type": "code",
   "execution_count": 33,
   "metadata": {},
   "outputs": [
    {
     "data": {
      "image/png": "[encoded data removed]",
      "text/plain": [
       "<Figure size 504x288 with 1 Axes>"
      ]
     },
     "metadata": {},
     "output_type": "display_data"
    }
   ],
   "source": [
    "# Define theta lower and upper limits\n",
    "low, high = 4, 8\n",
    "\n",
    "# Find intersecting values in frequency vector\n",
    "idx_theta = np.logical_and(freqs >= low, freqs <= high)\n",
    "\n",
    "# Plot the power spectral density and fill the theta area\n",
    "plt.figure(figsize=(7, 4))\n",
    "plt.plot(freqs, psd, lw=2, color='k')\n",
    "plt.fill_between(freqs, psd, where=idx_theta, color='skyblue')\n",
    "plt.xlabel('Frequency (Hz)')\n",
    "plt.ylabel('Power spectral density (uV^2 / Hz)')\n",
    "plt.xlim([0, 50])\n",
    "plt.ylim([0, psd.max() * 1.1])\n",
    "plt.title(\"Theta Welch's periodogram\")\n",
    "sns.despine()"
   ]
  },
  {
   "cell_type": "code",
   "execution_count": 34,
   "metadata": {},
   "outputs": [],
   "source": [
    "# data : raw data\n",
    "# sf : Sampling frequency\n",
    "# band : Bounds of band\n",
    "# window_sec : Length of each window, if None, window_sec = (1 / min(band)) * 2\n",
    "# relative : If True, return the relative power (= divided by the total power of the signal), else return the absolute power.\n",
    "\n",
    "def bandpower(data, sf, band, window_sec=None, relative=False):\n",
    "    band = np.asarray(band)\n",
    "    lower_bound, upper_bound = band\n",
    "\n",
    "    if window_sec is not None:\n",
    "        nperseg = window_sec * sf\n",
    "    else:\n",
    "        nperseg = (2 / lower_bound) * sf\n",
    "\n",
    "    # Compute the modified Welch periodogram.\n",
    "    freqs, psd = welch(data, sf, nperseg=nperseg)\n",
    "\n",
    "    # Frequency resolution.\n",
    "    freq_res = freqs[1] - freqs[0]\n",
    "\n",
    "    # Find closest indices of band in frequency vector.\n",
    "    idx_band = np.logical_and(freqs >= lower_bound, freqs <= upper_bound)\n",
    "\n",
    "    # Integral approximation of the spectrum using Simpson's rule.\n",
    "    bp = simps(psd[idx_band], dx=freq_res)\n",
    "\n",
    "    if relative:\n",
    "        bp /= simps(psd, dx=freq_res)\n",
    "    return bp"
   ]
  },
  {
   "cell_type": "code",
   "execution_count": 35,
   "metadata": {},
   "outputs": [],
   "source": [
    "# Frequency in DEAP dataset\n",
    "fs = 128\n",
    "\n",
    "def get_band_power(trial, channel, band):\n",
    "    bd = (0,0)\n",
    "    if (band == \"theta\"):\n",
    "        bd = (4, 8)\n",
    "    elif (band == \"alpha\"):\n",
    "        bd = (8, 12)\n",
    "    elif (band == \"beta\"):\n",
    "        bd = (12, 30)\n",
    "    elif (band == \"gamma\"):\n",
    "        bd = (30, 64)\n",
    "    return bandpower(eeg_data[trial, channel, :], fs, bd)"
   ]
  },
  {
   "cell_type": "code",
   "execution_count": 36,
   "metadata": {},
   "outputs": [],
   "source": [
    "# Let's choose initial features\n",
    "band_features = ['Theta','Alpha', 'Beta', 'Gamma'] # 'Theta','Alpha', 'Beta', 'Gamma'\n",
    "statistical_features = ['Mean', 'Std', 'Kurtosis'] # 'Median', 'Mean', 'Std', 'Max', 'Min', 'Kurtosis'\n",
    "hjorth_features = ['Activity', 'Mobility', 'Complexity'] # 'Activity', 'Mobility', 'Complexity'\n",
    "fractal_features = ['Fractal dimension'] # 'Fractal dimension'\n",
    "\n",
    "features_names = band_features + statistical_features + hjorth_features + fractal_features\n",
    "feature_count = len(features_names) * 32"
   ]
  },
  {
   "cell_type": "code",
   "execution_count": 37,
   "metadata": {},
   "outputs": [],
   "source": [
    "features = np.zeros((participant_count * trial_count, feature_count))"
   ]
  },
  {
   "cell_type": "code",
   "execution_count": 38,
   "metadata": {},
   "outputs": [
    {
     "name": "stderr",
     "output_type": "stream",
     "text": [
      "100%|██████████| 880/880 [02:45<00:00,  5.33it/s]\n"
     ]
    }
   ],
   "source": [
    "for idx in trange(participant_count * trial_count):\n",
    "    test_features = []\n",
    "    \n",
    "    for idy in range(len(eeg_channels)):\n",
    "        # Band Powers\n",
    "        test_features.append(get_band_power(idx, idy, \"theta\"))\n",
    "        test_features.append(get_band_power(idx, idy, \"alpha\"))\n",
    "        test_features.append(get_band_power(idx, idy, \"beta\"))\n",
    "        test_features.append(get_band_power(idx, idy, \"gamma\"))\n",
    "            \n",
    "        # Statistical features\n",
    "        #test_features.append(np.median(eeg_data[idx, idy, :]))\n",
    "        test_features.append(np.mean(eeg_data[idx, idy, :]))\n",
    "        test_features.append(np.std(eeg_data[idx, idy, :]))\n",
    "        # test_features.append(np.max(eeg_data[idx, idy, :]))\n",
    "        # test_features.append(np.min(eeg_data[idx, idy, :]))\n",
    "        test_features.append(scipy.stats.kurtosis(eeg_data[idx, idy, :]))\n",
    "\n",
    "        # Hjorth parameters\n",
    "        test_features.append(eeglib.features.hjorthActivity(eeg_data[idx, idy, :]))\n",
    "        test_features.append(eeglib.features.hjorthMobility(eeg_data[idx, idy, :]))\n",
    "        test_features.append(eeglib.features.hjorthComplexity(eeg_data[idx, idy, :]))\n",
    "\n",
    "        # Fractal dimension (1 total)\n",
    "        test_features.append(eeglib.features.PFD(data[idx, idy, :]))\n",
    "        \n",
    "            \n",
    "    test_features = np.asarray(test_features)\n",
    "    \n",
    "    features[idx, :] = test_features[:]\n",
    "    \n",
    "    "
   ]
  },
  {
   "cell_type": "code",
   "execution_count": 39,
   "metadata": {},
   "outputs": [
    {
     "data": {
      "text/plain": [
       "(880, 352)"
      ]
     },
     "execution_count": 39,
     "metadata": {},
     "output_type": "execute_result"
    }
   ],
   "source": [
    "features.shape"
   ]
  },
  {
   "cell_type": "markdown",
   "metadata": {},
   "source": [
    "## 3.2. Making additional dataframes"
   ]
  },
  {
   "cell_type": "markdown",
   "metadata": {},
   "source": [
    "Создадим общий датафрейм"
   ]
  },
  {
   "cell_type": "code",
   "execution_count": 40,
   "metadata": {},
   "outputs": [
    {
     "name": "stdout",
     "output_type": "stream",
     "text": [
      "01 02 03 04 05 06 07 08 09 10 11 12 13 14 15 16 17 18 19 20 21 22 23 24 25 26 27 28 29 30 31 32\n"
     ]
    }
   ],
   "source": [
    "channels_names = []\n",
    "for i in range(1, 33): \n",
    "    name = ''\n",
    "    if i < 10:\n",
    "        name += '0'\n",
    "    name += str(i)\n",
    "    channels_names.append(name)\n",
    "print(*channels_names)"
   ]
  },
  {
   "cell_type": "code",
   "execution_count": 41,
   "metadata": {},
   "outputs": [
    {
     "data": {
      "text/plain": [
       "['Theta_01',\n",
       " 'Alpha_01',\n",
       " 'Beta_01',\n",
       " 'Gamma_01',\n",
       " 'Mean_01',\n",
       " 'Std_01',\n",
       " 'Kurtosis_01',\n",
       " 'Activity_01',\n",
       " 'Mobility_01',\n",
       " 'Complexity_01',\n",
       " 'Fractal dimension_01',\n",
       " 'Theta_02',\n",
       " 'Alpha_02',\n",
       " 'Beta_02',\n",
       " 'Gamma_02',\n",
       " 'Mean_02',\n",
       " 'Std_02',\n",
       " 'Kurtosis_02',\n",
       " 'Activity_02',\n",
       " 'Mobility_02',\n",
       " 'Complexity_02',\n",
       " 'Fractal dimension_02',\n",
       " 'Theta_03',\n",
       " 'Alpha_03',\n",
       " 'Beta_03',\n",
       " 'Gamma_03',\n",
       " 'Mean_03',\n",
       " 'Std_03',\n",
       " 'Kurtosis_03',\n",
       " 'Activity_03',\n",
       " 'Mobility_03',\n",
       " 'Complexity_03',\n",
       " 'Fractal dimension_03',\n",
       " 'Theta_04',\n",
       " 'Alpha_04',\n",
       " 'Beta_04',\n",
       " 'Gamma_04',\n",
       " 'Mean_04',\n",
       " 'Std_04',\n",
       " 'Kurtosis_04',\n",
       " 'Activity_04',\n",
       " 'Mobility_04',\n",
       " 'Complexity_04',\n",
       " 'Fractal dimension_04',\n",
       " 'Theta_05',\n",
       " 'Alpha_05',\n",
       " 'Beta_05',\n",
       " 'Gamma_05',\n",
       " 'Mean_05',\n",
       " 'Std_05',\n",
       " 'Kurtosis_05',\n",
       " 'Activity_05',\n",
       " 'Mobility_05',\n",
       " 'Complexity_05',\n",
       " 'Fractal dimension_05',\n",
       " 'Theta_06',\n",
       " 'Alpha_06',\n",
       " 'Beta_06',\n",
       " 'Gamma_06',\n",
       " 'Mean_06',\n",
       " 'Std_06',\n",
       " 'Kurtosis_06',\n",
       " 'Activity_06',\n",
       " 'Mobility_06',\n",
       " 'Complexity_06',\n",
       " 'Fractal dimension_06',\n",
       " 'Theta_07',\n",
       " 'Alpha_07',\n",
       " 'Beta_07',\n",
       " 'Gamma_07',\n",
       " 'Mean_07',\n",
       " 'Std_07',\n",
       " 'Kurtosis_07',\n",
       " 'Activity_07',\n",
       " 'Mobility_07',\n",
       " 'Complexity_07',\n",
       " 'Fractal dimension_07',\n",
       " 'Theta_08',\n",
       " 'Alpha_08',\n",
       " 'Beta_08',\n",
       " 'Gamma_08',\n",
       " 'Mean_08',\n",
       " 'Std_08',\n",
       " 'Kurtosis_08',\n",
       " 'Activity_08',\n",
       " 'Mobility_08',\n",
       " 'Complexity_08',\n",
       " 'Fractal dimension_08',\n",
       " 'Theta_09',\n",
       " 'Alpha_09',\n",
       " 'Beta_09',\n",
       " 'Gamma_09',\n",
       " 'Mean_09',\n",
       " 'Std_09',\n",
       " 'Kurtosis_09',\n",
       " 'Activity_09',\n",
       " 'Mobility_09',\n",
       " 'Complexity_09',\n",
       " 'Fractal dimension_09',\n",
       " 'Theta_10',\n",
       " 'Alpha_10',\n",
       " 'Beta_10',\n",
       " 'Gamma_10',\n",
       " 'Mean_10',\n",
       " 'Std_10',\n",
       " 'Kurtosis_10',\n",
       " 'Activity_10',\n",
       " 'Mobility_10',\n",
       " 'Complexity_10',\n",
       " 'Fractal dimension_10',\n",
       " 'Theta_11',\n",
       " 'Alpha_11',\n",
       " 'Beta_11',\n",
       " 'Gamma_11',\n",
       " 'Mean_11',\n",
       " 'Std_11',\n",
       " 'Kurtosis_11',\n",
       " 'Activity_11',\n",
       " 'Mobility_11',\n",
       " 'Complexity_11',\n",
       " 'Fractal dimension_11',\n",
       " 'Theta_12',\n",
       " 'Alpha_12',\n",
       " 'Beta_12',\n",
       " 'Gamma_12',\n",
       " 'Mean_12',\n",
       " 'Std_12',\n",
       " 'Kurtosis_12',\n",
       " 'Activity_12',\n",
       " 'Mobility_12',\n",
       " 'Complexity_12',\n",
       " 'Fractal dimension_12',\n",
       " 'Theta_13',\n",
       " 'Alpha_13',\n",
       " 'Beta_13',\n",
       " 'Gamma_13',\n",
       " 'Mean_13',\n",
       " 'Std_13',\n",
       " 'Kurtosis_13',\n",
       " 'Activity_13',\n",
       " 'Mobility_13',\n",
       " 'Complexity_13',\n",
       " 'Fractal dimension_13',\n",
       " 'Theta_14',\n",
       " 'Alpha_14',\n",
       " 'Beta_14',\n",
       " 'Gamma_14',\n",
       " 'Mean_14',\n",
       " 'Std_14',\n",
       " 'Kurtosis_14',\n",
       " 'Activity_14',\n",
       " 'Mobility_14',\n",
       " 'Complexity_14',\n",
       " 'Fractal dimension_14',\n",
       " 'Theta_15',\n",
       " 'Alpha_15',\n",
       " 'Beta_15',\n",
       " 'Gamma_15',\n",
       " 'Mean_15',\n",
       " 'Std_15',\n",
       " 'Kurtosis_15',\n",
       " 'Activity_15',\n",
       " 'Mobility_15',\n",
       " 'Complexity_15',\n",
       " 'Fractal dimension_15',\n",
       " 'Theta_16',\n",
       " 'Alpha_16',\n",
       " 'Beta_16',\n",
       " 'Gamma_16',\n",
       " 'Mean_16',\n",
       " 'Std_16',\n",
       " 'Kurtosis_16',\n",
       " 'Activity_16',\n",
       " 'Mobility_16',\n",
       " 'Complexity_16',\n",
       " 'Fractal dimension_16',\n",
       " 'Theta_17',\n",
       " 'Alpha_17',\n",
       " 'Beta_17',\n",
       " 'Gamma_17',\n",
       " 'Mean_17',\n",
       " 'Std_17',\n",
       " 'Kurtosis_17',\n",
       " 'Activity_17',\n",
       " 'Mobility_17',\n",
       " 'Complexity_17',\n",
       " 'Fractal dimension_17',\n",
       " 'Theta_18',\n",
       " 'Alpha_18',\n",
       " 'Beta_18',\n",
       " 'Gamma_18',\n",
       " 'Mean_18',\n",
       " 'Std_18',\n",
       " 'Kurtosis_18',\n",
       " 'Activity_18',\n",
       " 'Mobility_18',\n",
       " 'Complexity_18',\n",
       " 'Fractal dimension_18',\n",
       " 'Theta_19',\n",
       " 'Alpha_19',\n",
       " 'Beta_19',\n",
       " 'Gamma_19',\n",
       " 'Mean_19',\n",
       " 'Std_19',\n",
       " 'Kurtosis_19',\n",
       " 'Activity_19',\n",
       " 'Mobility_19',\n",
       " 'Complexity_19',\n",
       " 'Fractal dimension_19',\n",
       " 'Theta_20',\n",
       " 'Alpha_20',\n",
       " 'Beta_20',\n",
       " 'Gamma_20',\n",
       " 'Mean_20',\n",
       " 'Std_20',\n",
       " 'Kurtosis_20',\n",
       " 'Activity_20',\n",
       " 'Mobility_20',\n",
       " 'Complexity_20',\n",
       " 'Fractal dimension_20',\n",
       " 'Theta_21',\n",
       " 'Alpha_21',\n",
       " 'Beta_21',\n",
       " 'Gamma_21',\n",
       " 'Mean_21',\n",
       " 'Std_21',\n",
       " 'Kurtosis_21',\n",
       " 'Activity_21',\n",
       " 'Mobility_21',\n",
       " 'Complexity_21',\n",
       " 'Fractal dimension_21',\n",
       " 'Theta_22',\n",
       " 'Alpha_22',\n",
       " 'Beta_22',\n",
       " 'Gamma_22',\n",
       " 'Mean_22',\n",
       " 'Std_22',\n",
       " 'Kurtosis_22',\n",
       " 'Activity_22',\n",
       " 'Mobility_22',\n",
       " 'Complexity_22',\n",
       " 'Fractal dimension_22',\n",
       " 'Theta_23',\n",
       " 'Alpha_23',\n",
       " 'Beta_23',\n",
       " 'Gamma_23',\n",
       " 'Mean_23',\n",
       " 'Std_23',\n",
       " 'Kurtosis_23',\n",
       " 'Activity_23',\n",
       " 'Mobility_23',\n",
       " 'Complexity_23',\n",
       " 'Fractal dimension_23',\n",
       " 'Theta_24',\n",
       " 'Alpha_24',\n",
       " 'Beta_24',\n",
       " 'Gamma_24',\n",
       " 'Mean_24',\n",
       " 'Std_24',\n",
       " 'Kurtosis_24',\n",
       " 'Activity_24',\n",
       " 'Mobility_24',\n",
       " 'Complexity_24',\n",
       " 'Fractal dimension_24',\n",
       " 'Theta_25',\n",
       " 'Alpha_25',\n",
       " 'Beta_25',\n",
       " 'Gamma_25',\n",
       " 'Mean_25',\n",
       " 'Std_25',\n",
       " 'Kurtosis_25',\n",
       " 'Activity_25',\n",
       " 'Mobility_25',\n",
       " 'Complexity_25',\n",
       " 'Fractal dimension_25',\n",
       " 'Theta_26',\n",
       " 'Alpha_26',\n",
       " 'Beta_26',\n",
       " 'Gamma_26',\n",
       " 'Mean_26',\n",
       " 'Std_26',\n",
       " 'Kurtosis_26',\n",
       " 'Activity_26',\n",
       " 'Mobility_26',\n",
       " 'Complexity_26',\n",
       " 'Fractal dimension_26',\n",
       " 'Theta_27',\n",
       " 'Alpha_27',\n",
       " 'Beta_27',\n",
       " 'Gamma_27',\n",
       " 'Mean_27',\n",
       " 'Std_27',\n",
       " 'Kurtosis_27',\n",
       " 'Activity_27',\n",
       " 'Mobility_27',\n",
       " 'Complexity_27',\n",
       " 'Fractal dimension_27',\n",
       " 'Theta_28',\n",
       " 'Alpha_28',\n",
       " 'Beta_28',\n",
       " 'Gamma_28',\n",
       " 'Mean_28',\n",
       " 'Std_28',\n",
       " 'Kurtosis_28',\n",
       " 'Activity_28',\n",
       " 'Mobility_28',\n",
       " 'Complexity_28',\n",
       " 'Fractal dimension_28',\n",
       " 'Theta_29',\n",
       " 'Alpha_29',\n",
       " 'Beta_29',\n",
       " 'Gamma_29',\n",
       " 'Mean_29',\n",
       " 'Std_29',\n",
       " 'Kurtosis_29',\n",
       " 'Activity_29',\n",
       " 'Mobility_29',\n",
       " 'Complexity_29',\n",
       " 'Fractal dimension_29',\n",
       " 'Theta_30',\n",
       " 'Alpha_30',\n",
       " 'Beta_30',\n",
       " 'Gamma_30',\n",
       " 'Mean_30',\n",
       " 'Std_30',\n",
       " 'Kurtosis_30',\n",
       " 'Activity_30',\n",
       " 'Mobility_30',\n",
       " 'Complexity_30',\n",
       " 'Fractal dimension_30',\n",
       " 'Theta_31',\n",
       " 'Alpha_31',\n",
       " 'Beta_31',\n",
       " 'Gamma_31',\n",
       " 'Mean_31',\n",
       " 'Std_31',\n",
       " 'Kurtosis_31',\n",
       " 'Activity_31',\n",
       " 'Mobility_31',\n",
       " 'Complexity_31',\n",
       " 'Fractal dimension_31',\n",
       " 'Theta_32',\n",
       " 'Alpha_32',\n",
       " 'Beta_32',\n",
       " 'Gamma_32',\n",
       " 'Mean_32',\n",
       " 'Std_32',\n",
       " 'Kurtosis_32',\n",
       " 'Activity_32',\n",
       " 'Mobility_32',\n",
       " 'Complexity_32',\n",
       " 'Fractal dimension_32']"
      ]
     },
     "execution_count": 41,
     "metadata": {},
     "output_type": "execute_result"
    }
   ],
   "source": [
    "header = []\n",
    "\n",
    "for idx in range(len(channels_names)):\n",
    "    for feature in features_names:\n",
    "        header.append(\"{}_{}\".format(feature, channels_names[idx]))\n",
    "        \n",
    "header"
   ]
  },
  {
   "cell_type": "code",
   "execution_count": 186,
   "metadata": {},
   "outputs": [],
   "source": [
    "df_x = pd.DataFrame(data=features, columns=header)"
   ]
  },
  {
   "cell_type": "code",
   "execution_count": 252,
   "metadata": {},
   "outputs": [
    {
     "name": "stdout",
     "output_type": "stream",
     "text": [
      "Collecting dataframe_image\n",
      "  Downloading dataframe_image-0.1.1-py3-none-any.whl (32 kB)\n",
      "Collecting aiohttp\n",
      "  Downloading aiohttp-3.8.1-cp38-cp38-win_amd64.whl (555 kB)\n",
      "Requirement already satisfied: nbconvert>=5 in c:\\users\\aspet\\anaconda3\\lib\\site-packages (from dataframe_image) (6.0.7)\n",
      "Requirement already satisfied: matplotlib>=3.1 in c:\\users\\aspet\\anaconda3\\lib\\site-packages (from dataframe_image) (3.3.2)\n",
      "Requirement already satisfied: pandas>=0.24 in c:\\users\\aspet\\anaconda3\\lib\\site-packages (from dataframe_image) (1.1.3)\n",
      "Requirement already satisfied: beautifulsoup4 in c:\\users\\aspet\\anaconda3\\lib\\site-packages (from dataframe_image) (4.9.3)\n",
      "Requirement already satisfied: requests in c:\\users\\aspet\\anaconda3\\lib\\site-packages (from dataframe_image) (2.24.0)\n",
      "Collecting multidict<7.0,>=4.5\n",
      "  Downloading multidict-6.0.2-cp38-cp38-win_amd64.whl (28 kB)\n",
      "Collecting aiosignal>=1.1.2\n",
      "  Downloading aiosignal-1.2.0-py3-none-any.whl (8.2 kB)\n",
      "Collecting charset-normalizer<3.0,>=2.0\n",
      "  Downloading charset_normalizer-2.0.12-py3-none-any.whl (39 kB)\n",
      "Collecting frozenlist>=1.1.1\n",
      "  Downloading frozenlist-1.3.0-cp38-cp38-win_amd64.whl (33 kB)\n",
      "Collecting async-timeout<5.0,>=4.0.0a3\n",
      "  Downloading async_timeout-4.0.2-py3-none-any.whl (5.8 kB)\n",
      "Collecting yarl<2.0,>=1.0\n",
      "  Downloading yarl-1.7.2-cp38-cp38-win_amd64.whl (122 kB)\n",
      "Requirement already satisfied: attrs>=17.3.0 in c:\\users\\aspet\\anaconda3\\lib\\site-packages (from aiohttp->dataframe_image) (20.3.0)\n",
      "Requirement already satisfied: traitlets>=4.2 in c:\\users\\aspet\\anaconda3\\lib\\site-packages (from nbconvert>=5->dataframe_image) (5.0.5)\n",
      "Requirement already satisfied: nbformat>=4.4 in c:\\users\\aspet\\anaconda3\\lib\\site-packages (from nbconvert>=5->dataframe_image) (5.0.8)\n",
      "Requirement already satisfied: nbclient<0.6.0,>=0.5.0 in c:\\users\\aspet\\anaconda3\\lib\\site-packages (from nbconvert>=5->dataframe_image) (0.5.1)\n",
      "Requirement already satisfied: testpath in c:\\users\\aspet\\anaconda3\\lib\\site-packages (from nbconvert>=5->dataframe_image) (0.4.4)\n",
      "Requirement already satisfied: defusedxml in c:\\users\\aspet\\anaconda3\\lib\\site-packages (from nbconvert>=5->dataframe_image) (0.6.0)\n",
      "Requirement already satisfied: entrypoints>=0.2.2 in c:\\users\\aspet\\anaconda3\\lib\\site-packages (from nbconvert>=5->dataframe_image) (0.3)\n",
      "Requirement already satisfied: pygments>=2.4.1 in c:\\users\\aspet\\anaconda3\\lib\\site-packages (from nbconvert>=5->dataframe_image) (2.7.2)\n",
      "Requirement already satisfied: jinja2>=2.4 in c:\\users\\aspet\\anaconda3\\lib\\site-packages (from nbconvert>=5->dataframe_image) (2.11.2)\n",
      "Requirement already satisfied: jupyter-core in c:\\users\\aspet\\anaconda3\\lib\\site-packages (from nbconvert>=5->dataframe_image) (4.6.3)\n",
      "Requirement already satisfied: jupyterlab-pygments in c:\\users\\aspet\\anaconda3\\lib\\site-packages (from nbconvert>=5->dataframe_image) (0.1.2)\n",
      "Requirement already satisfied: pandocfilters>=1.4.1 in c:\\users\\aspet\\anaconda3\\lib\\site-packages (from nbconvert>=5->dataframe_image) (1.4.3)\n",
      "Requirement already satisfied: mistune<2,>=0.8.1 in c:\\users\\aspet\\anaconda3\\lib\\site-packages (from nbconvert>=5->dataframe_image) (0.8.4)\n",
      "Requirement already satisfied: bleach in c:\\users\\aspet\\anaconda3\\lib\\site-packages (from nbconvert>=5->dataframe_image) (3.2.1)\n",
      "Requirement already satisfied: cycler>=0.10 in c:\\users\\aspet\\anaconda3\\lib\\site-packages (from matplotlib>=3.1->dataframe_image) (0.10.0)\n",
      "Requirement already satisfied: certifi>=2020.06.20 in c:\\users\\aspet\\anaconda3\\lib\\site-packages (from matplotlib>=3.1->dataframe_image) (2020.6.20)\n",
      "Requirement already satisfied: kiwisolver>=1.0.1 in c:\\users\\aspet\\anaconda3\\lib\\site-packages (from matplotlib>=3.1->dataframe_image) (1.3.0)\n",
      "Requirement already satisfied: numpy>=1.15 in c:\\users\\aspet\\anaconda3\\lib\\site-packages (from matplotlib>=3.1->dataframe_image) (1.22.4)\n",
      "Requirement already satisfied: pyparsing!=2.0.4,!=2.1.2,!=2.1.6,>=2.0.3 in c:\\users\\aspet\\anaconda3\\lib\\site-packages (from matplotlib>=3.1->dataframe_image) (2.4.7)\n",
      "Requirement already satisfied: pillow>=6.2.0 in c:\\users\\aspet\\anaconda3\\lib\\site-packages (from matplotlib>=3.1->dataframe_image) (8.0.1)\n",
      "Requirement already satisfied: python-dateutil>=2.1 in c:\\users\\aspet\\anaconda3\\lib\\site-packages (from matplotlib>=3.1->dataframe_image) (2.8.1)\n",
      "Requirement already satisfied: pytz>=2017.2 in c:\\users\\aspet\\anaconda3\\lib\\site-packages (from pandas>=0.24->dataframe_image) (2020.1)\n",
      "Requirement already satisfied: soupsieve>1.2; python_version >= \"3.0\" in c:\\users\\aspet\\anaconda3\\lib\\site-packages (from beautifulsoup4->dataframe_image) (2.0.1)\n",
      "Requirement already satisfied: idna<3,>=2.5 in c:\\users\\aspet\\anaconda3\\lib\\site-packages (from requests->dataframe_image) (2.10)\n",
      "Requirement already satisfied: urllib3!=1.25.0,!=1.25.1,<1.26,>=1.21.1 in c:\\users\\aspet\\anaconda3\\lib\\site-packages (from requests->dataframe_image) (1.25.11)\n",
      "Requirement already satisfied: chardet<4,>=3.0.2 in c:\\users\\aspet\\anaconda3\\lib\\site-packages (from requests->dataframe_image) (3.0.4)\n",
      "Requirement already satisfied: ipython-genutils in c:\\users\\aspet\\anaconda3\\lib\\site-packages (from traitlets>=4.2->nbconvert>=5->dataframe_image) (0.2.0)\n",
      "Requirement already satisfied: jsonschema!=2.5.0,>=2.4 in c:\\users\\aspet\\anaconda3\\lib\\site-packages (from nbformat>=4.4->nbconvert>=5->dataframe_image) (3.2.0)\n",
      "Requirement already satisfied: nest-asyncio in c:\\users\\aspet\\anaconda3\\lib\\site-packages (from nbclient<0.6.0,>=0.5.0->nbconvert>=5->dataframe_image) (1.4.2)\n",
      "Requirement already satisfied: jupyter-client>=6.1.5 in c:\\users\\aspet\\anaconda3\\lib\\site-packages (from nbclient<0.6.0,>=0.5.0->nbconvert>=5->dataframe_image) (6.1.7)\n",
      "Requirement already satisfied: async-generator in c:\\users\\aspet\\anaconda3\\lib\\site-packages (from nbclient<0.6.0,>=0.5.0->nbconvert>=5->dataframe_image) (1.10)\n",
      "Requirement already satisfied: MarkupSafe>=0.23 in c:\\users\\aspet\\anaconda3\\lib\\site-packages (from jinja2>=2.4->nbconvert>=5->dataframe_image) (1.1.1)\n",
      "Requirement already satisfied: pywin32>=1.0; sys_platform == \"win32\" in c:\\users\\aspet\\anaconda3\\lib\\site-packages (from jupyter-core->nbconvert>=5->dataframe_image) (227)\n",
      "Requirement already satisfied: six>=1.9.0 in c:\\users\\aspet\\anaconda3\\lib\\site-packages (from bleach->nbconvert>=5->dataframe_image) (1.15.0)\n",
      "Requirement already satisfied: webencodings in c:\\users\\aspet\\anaconda3\\lib\\site-packages (from bleach->nbconvert>=5->dataframe_image) (0.5.1)\n",
      "Requirement already satisfied: packaging in c:\\users\\aspet\\anaconda3\\lib\\site-packages (from bleach->nbconvert>=5->dataframe_image) (20.4)\n",
      "Requirement already satisfied: pyrsistent>=0.14.0 in c:\\users\\aspet\\anaconda3\\lib\\site-packages (from jsonschema!=2.5.0,>=2.4->nbformat>=4.4->nbconvert>=5->dataframe_image) (0.17.3)\n",
      "Requirement already satisfied: setuptools in c:\\users\\aspet\\anaconda3\\lib\\site-packages (from jsonschema!=2.5.0,>=2.4->nbformat>=4.4->nbconvert>=5->dataframe_image) (50.3.1.post20201107)\n",
      "Requirement already satisfied: pyzmq>=13 in c:\\users\\aspet\\anaconda3\\lib\\site-packages (from jupyter-client>=6.1.5->nbclient<0.6.0,>=0.5.0->nbconvert>=5->dataframe_image) (19.0.2)\n",
      "Requirement already satisfied: tornado>=4.1 in c:\\users\\aspet\\anaconda3\\lib\\site-packages (from jupyter-client>=6.1.5->nbclient<0.6.0,>=0.5.0->nbconvert>=5->dataframe_image) (6.0.4)\n",
      "Installing collected packages: multidict, frozenlist, aiosignal, charset-normalizer, async-timeout, yarl, aiohttp, dataframe-image\n",
      "Successfully installed aiohttp-3.8.1 aiosignal-1.2.0 async-timeout-4.0.2 charset-normalizer-2.0.12 dataframe-image-0.1.1 frozenlist-1.3.0 multidict-6.0.2 yarl-1.7.2\n"
     ]
    }
   ],
   "source": [
    "!pip install dataframe_image\n",
    "import dataframe_image as dfi"
   ]
  },
  {
   "cell_type": "code",
   "execution_count": 255,
   "metadata": {},
   "outputs": [],
   "source": [
    "dfi.export(df_x.head(5), \"df_x.png\", max_cols=10)"
   ]
  },
  {
   "cell_type": "code",
   "execution_count": 43,
   "metadata": {},
   "outputs": [
    {
     "data": {
      "text/html": [
       "<div>\n",
       "<style scoped>\n",
       "    .dataframe tbody tr th:only-of-type {\n",
       "        vertical-align: middle;\n",
       "    }\n",
       "\n",
       "    .dataframe tbody tr th {\n",
       "        vertical-align: top;\n",
       "    }\n",
       "\n",
       "    .dataframe thead th {\n",
       "        text-align: right;\n",
       "    }\n",
       "</style>\n",
       "<table border=\"1\" class=\"dataframe\">\n",
       "  <thead>\n",
       "    <tr style=\"text-align: right;\">\n",
       "      <th></th>\n",
       "      <th>Theta_01</th>\n",
       "      <th>Alpha_01</th>\n",
       "      <th>Beta_01</th>\n",
       "      <th>Gamma_01</th>\n",
       "      <th>Mean_01</th>\n",
       "      <th>Std_01</th>\n",
       "      <th>Kurtosis_01</th>\n",
       "      <th>Activity_01</th>\n",
       "      <th>Mobility_01</th>\n",
       "      <th>Complexity_01</th>\n",
       "      <th>...</th>\n",
       "      <th>Alpha_32</th>\n",
       "      <th>Beta_32</th>\n",
       "      <th>Gamma_32</th>\n",
       "      <th>Mean_32</th>\n",
       "      <th>Std_32</th>\n",
       "      <th>Kurtosis_32</th>\n",
       "      <th>Activity_32</th>\n",
       "      <th>Mobility_32</th>\n",
       "      <th>Complexity_32</th>\n",
       "      <th>Fractal dimension_32</th>\n",
       "    </tr>\n",
       "  </thead>\n",
       "  <tbody>\n",
       "    <tr>\n",
       "      <th>0</th>\n",
       "      <td>3.966387</td>\n",
       "      <td>3.362791</td>\n",
       "      <td>5.815234</td>\n",
       "      <td>1.216603</td>\n",
       "      <td>-0.028259</td>\n",
       "      <td>3.889422</td>\n",
       "      <td>0.743994</td>\n",
       "      <td>15.127600</td>\n",
       "      <td>0.620207</td>\n",
       "      <td>1.252645</td>\n",
       "      <td>...</td>\n",
       "      <td>5.369596</td>\n",
       "      <td>6.286556</td>\n",
       "      <td>0.987916</td>\n",
       "      <td>-0.011155</td>\n",
       "      <td>4.376486</td>\n",
       "      <td>0.423327</td>\n",
       "      <td>19.153627</td>\n",
       "      <td>0.550910</td>\n",
       "      <td>1.279431</td>\n",
       "      <td>1.014171</td>\n",
       "    </tr>\n",
       "    <tr>\n",
       "      <th>1</th>\n",
       "      <td>5.171664</td>\n",
       "      <td>4.159797</td>\n",
       "      <td>6.395374</td>\n",
       "      <td>1.450174</td>\n",
       "      <td>-0.082712</td>\n",
       "      <td>4.260994</td>\n",
       "      <td>0.710815</td>\n",
       "      <td>18.156071</td>\n",
       "      <td>0.599380</td>\n",
       "      <td>1.278360</td>\n",
       "      <td>...</td>\n",
       "      <td>6.850178</td>\n",
       "      <td>6.795912</td>\n",
       "      <td>1.152470</td>\n",
       "      <td>0.156159</td>\n",
       "      <td>4.882664</td>\n",
       "      <td>0.636155</td>\n",
       "      <td>23.840406</td>\n",
       "      <td>0.524440</td>\n",
       "      <td>1.312275</td>\n",
       "      <td>1.014451</td>\n",
       "    </tr>\n",
       "    <tr>\n",
       "      <th>2</th>\n",
       "      <td>4.839268</td>\n",
       "      <td>4.294426</td>\n",
       "      <td>6.721424</td>\n",
       "      <td>1.541999</td>\n",
       "      <td>0.060689</td>\n",
       "      <td>4.317223</td>\n",
       "      <td>0.822480</td>\n",
       "      <td>18.638419</td>\n",
       "      <td>0.612427</td>\n",
       "      <td>1.256156</td>\n",
       "      <td>...</td>\n",
       "      <td>8.209320</td>\n",
       "      <td>8.429777</td>\n",
       "      <td>1.410791</td>\n",
       "      <td>-0.123599</td>\n",
       "      <td>5.181716</td>\n",
       "      <td>0.917153</td>\n",
       "      <td>26.850180</td>\n",
       "      <td>0.547663</td>\n",
       "      <td>1.260934</td>\n",
       "      <td>1.014610</td>\n",
       "    </tr>\n",
       "    <tr>\n",
       "      <th>3</th>\n",
       "      <td>4.442888</td>\n",
       "      <td>3.519818</td>\n",
       "      <td>5.380133</td>\n",
       "      <td>1.280744</td>\n",
       "      <td>-0.027773</td>\n",
       "      <td>3.961901</td>\n",
       "      <td>0.869061</td>\n",
       "      <td>15.696661</td>\n",
       "      <td>0.606625</td>\n",
       "      <td>1.282615</td>\n",
       "      <td>...</td>\n",
       "      <td>6.541218</td>\n",
       "      <td>6.753938</td>\n",
       "      <td>1.026295</td>\n",
       "      <td>-0.021971</td>\n",
       "      <td>4.699940</td>\n",
       "      <td>0.515875</td>\n",
       "      <td>22.089439</td>\n",
       "      <td>0.531993</td>\n",
       "      <td>1.286845</td>\n",
       "      <td>1.014051</td>\n",
       "    </tr>\n",
       "    <tr>\n",
       "      <th>4</th>\n",
       "      <td>2.698928</td>\n",
       "      <td>2.770151</td>\n",
       "      <td>4.911636</td>\n",
       "      <td>1.076200</td>\n",
       "      <td>-0.062537</td>\n",
       "      <td>3.522773</td>\n",
       "      <td>0.368222</td>\n",
       "      <td>12.409932</td>\n",
       "      <td>0.636997</td>\n",
       "      <td>1.233602</td>\n",
       "      <td>...</td>\n",
       "      <td>5.195625</td>\n",
       "      <td>6.161676</td>\n",
       "      <td>0.946582</td>\n",
       "      <td>0.073402</td>\n",
       "      <td>4.175456</td>\n",
       "      <td>0.552951</td>\n",
       "      <td>17.434434</td>\n",
       "      <td>0.568176</td>\n",
       "      <td>1.236513</td>\n",
       "      <td>1.014226</td>\n",
       "    </tr>\n",
       "  </tbody>\n",
       "</table>\n",
       "<p>5 rows × 352 columns</p>\n",
       "</div>"
      ],
      "text/plain": [
       "   Theta_01  Alpha_01   Beta_01  Gamma_01   Mean_01    Std_01  Kurtosis_01  \\\n",
       "0  3.966387  3.362791  5.815234  1.216603 -0.028259  3.889422     0.743994   \n",
       "1  5.171664  4.159797  6.395374  1.450174 -0.082712  4.260994     0.710815   \n",
       "2  4.839268  4.294426  6.721424  1.541999  0.060689  4.317223     0.822480   \n",
       "3  4.442888  3.519818  5.380133  1.280744 -0.027773  3.961901     0.869061   \n",
       "4  2.698928  2.770151  4.911636  1.076200 -0.062537  3.522773     0.368222   \n",
       "\n",
       "   Activity_01  Mobility_01  Complexity_01  ...  Alpha_32   Beta_32  Gamma_32  \\\n",
       "0    15.127600     0.620207       1.252645  ...  5.369596  6.286556  0.987916   \n",
       "1    18.156071     0.599380       1.278360  ...  6.850178  6.795912  1.152470   \n",
       "2    18.638419     0.612427       1.256156  ...  8.209320  8.429777  1.410791   \n",
       "3    15.696661     0.606625       1.282615  ...  6.541218  6.753938  1.026295   \n",
       "4    12.409932     0.636997       1.233602  ...  5.195625  6.161676  0.946582   \n",
       "\n",
       "    Mean_32    Std_32  Kurtosis_32  Activity_32  Mobility_32  Complexity_32  \\\n",
       "0 -0.011155  4.376486     0.423327    19.153627     0.550910       1.279431   \n",
       "1  0.156159  4.882664     0.636155    23.840406     0.524440       1.312275   \n",
       "2 -0.123599  5.181716     0.917153    26.850180     0.547663       1.260934   \n",
       "3 -0.021971  4.699940     0.515875    22.089439     0.531993       1.286845   \n",
       "4  0.073402  4.175456     0.552951    17.434434     0.568176       1.236513   \n",
       "\n",
       "   Fractal dimension_32  \n",
       "0              1.014171  \n",
       "1              1.014451  \n",
       "2              1.014610  \n",
       "3              1.014051  \n",
       "4              1.014226  \n",
       "\n",
       "[5 rows x 352 columns]"
      ]
     },
     "execution_count": 43,
     "metadata": {},
     "output_type": "execute_result"
    }
   ],
   "source": [
    "df_x.head(5)"
   ]
  },
  {
   "cell_type": "code",
   "execution_count": 44,
   "metadata": {},
   "outputs": [
    {
     "data": {
      "text/html": [
       "<div>\n",
       "<style scoped>\n",
       "    .dataframe tbody tr th:only-of-type {\n",
       "        vertical-align: middle;\n",
       "    }\n",
       "\n",
       "    .dataframe tbody tr th {\n",
       "        vertical-align: top;\n",
       "    }\n",
       "\n",
       "    .dataframe thead th {\n",
       "        text-align: right;\n",
       "    }\n",
       "</style>\n",
       "<table border=\"1\" class=\"dataframe\">\n",
       "  <thead>\n",
       "    <tr style=\"text-align: right;\">\n",
       "      <th></th>\n",
       "      <th>Theta_01</th>\n",
       "      <th>Alpha_01</th>\n",
       "      <th>Beta_01</th>\n",
       "      <th>Gamma_01</th>\n",
       "      <th>Mean_01</th>\n",
       "      <th>Std_01</th>\n",
       "      <th>Kurtosis_01</th>\n",
       "      <th>Activity_01</th>\n",
       "      <th>Mobility_01</th>\n",
       "      <th>Complexity_01</th>\n",
       "      <th>...</th>\n",
       "      <th>Alpha_32</th>\n",
       "      <th>Beta_32</th>\n",
       "      <th>Gamma_32</th>\n",
       "      <th>Mean_32</th>\n",
       "      <th>Std_32</th>\n",
       "      <th>Kurtosis_32</th>\n",
       "      <th>Activity_32</th>\n",
       "      <th>Mobility_32</th>\n",
       "      <th>Complexity_32</th>\n",
       "      <th>Fractal dimension_32</th>\n",
       "    </tr>\n",
       "  </thead>\n",
       "  <tbody>\n",
       "    <tr>\n",
       "      <th>count</th>\n",
       "      <td>880.000000</td>\n",
       "      <td>880.000000</td>\n",
       "      <td>880.000000</td>\n",
       "      <td>880.000000</td>\n",
       "      <td>880.000000</td>\n",
       "      <td>880.000000</td>\n",
       "      <td>880.000000</td>\n",
       "      <td>880.000000</td>\n",
       "      <td>880.000000</td>\n",
       "      <td>880.000000</td>\n",
       "      <td>...</td>\n",
       "      <td>880.000000</td>\n",
       "      <td>880.000000</td>\n",
       "      <td>880.000000</td>\n",
       "      <td>880.000000</td>\n",
       "      <td>880.000000</td>\n",
       "      <td>880.000000</td>\n",
       "      <td>880.000000</td>\n",
       "      <td>880.000000</td>\n",
       "      <td>880.000000</td>\n",
       "      <td>880.000000</td>\n",
       "    </tr>\n",
       "    <tr>\n",
       "      <th>mean</th>\n",
       "      <td>547.699828</td>\n",
       "      <td>182.780787</td>\n",
       "      <td>101.611223</td>\n",
       "      <td>64.360730</td>\n",
       "      <td>0.017145</td>\n",
       "      <td>22.269416</td>\n",
       "      <td>6.704348</td>\n",
       "      <td>960.430091</td>\n",
       "      <td>0.555040</td>\n",
       "      <td>1.451385</td>\n",
       "      <td>...</td>\n",
       "      <td>169.975618</td>\n",
       "      <td>122.210202</td>\n",
       "      <td>78.234919</td>\n",
       "      <td>0.015499</td>\n",
       "      <td>18.592351</td>\n",
       "      <td>6.644478</td>\n",
       "      <td>879.572052</td>\n",
       "      <td>0.528960</td>\n",
       "      <td>1.478235</td>\n",
       "      <td>1.018617</td>\n",
       "    </tr>\n",
       "    <tr>\n",
       "      <th>std</th>\n",
       "      <td>1217.588842</td>\n",
       "      <td>397.609258</td>\n",
       "      <td>198.334644</td>\n",
       "      <td>161.216361</td>\n",
       "      <td>0.596332</td>\n",
       "      <td>21.564593</td>\n",
       "      <td>6.998941</td>\n",
       "      <td>2026.699881</td>\n",
       "      <td>0.122132</td>\n",
       "      <td>0.183035</td>\n",
       "      <td>...</td>\n",
       "      <td>476.333660</td>\n",
       "      <td>327.015453</td>\n",
       "      <td>241.881491</td>\n",
       "      <td>0.594446</td>\n",
       "      <td>23.119341</td>\n",
       "      <td>6.766369</td>\n",
       "      <td>2452.977717</td>\n",
       "      <td>0.110149</td>\n",
       "      <td>0.166496</td>\n",
       "      <td>0.001767</td>\n",
       "    </tr>\n",
       "    <tr>\n",
       "      <th>min</th>\n",
       "      <td>2.698928</td>\n",
       "      <td>2.770151</td>\n",
       "      <td>4.833550</td>\n",
       "      <td>1.069233</td>\n",
       "      <td>-3.520997</td>\n",
       "      <td>3.522773</td>\n",
       "      <td>0.272780</td>\n",
       "      <td>12.409932</td>\n",
       "      <td>0.298648</td>\n",
       "      <td>1.093989</td>\n",
       "      <td>...</td>\n",
       "      <td>3.617116</td>\n",
       "      <td>5.084168</td>\n",
       "      <td>0.877576</td>\n",
       "      <td>-5.487914</td>\n",
       "      <td>4.085784</td>\n",
       "      <td>0.133386</td>\n",
       "      <td>16.693629</td>\n",
       "      <td>0.316209</td>\n",
       "      <td>1.106087</td>\n",
       "      <td>1.013454</td>\n",
       "    </tr>\n",
       "    <tr>\n",
       "      <th>25%</th>\n",
       "      <td>24.093211</td>\n",
       "      <td>14.191465</td>\n",
       "      <td>18.086819</td>\n",
       "      <td>9.012946</td>\n",
       "      <td>-0.089709</td>\n",
       "      <td>9.139276</td>\n",
       "      <td>1.983144</td>\n",
       "      <td>83.526374</td>\n",
       "      <td>0.478303</td>\n",
       "      <td>1.315828</td>\n",
       "      <td>...</td>\n",
       "      <td>9.851048</td>\n",
       "      <td>11.077585</td>\n",
       "      <td>4.285074</td>\n",
       "      <td>-0.075937</td>\n",
       "      <td>7.408875</td>\n",
       "      <td>1.985953</td>\n",
       "      <td>54.891433</td>\n",
       "      <td>0.439337</td>\n",
       "      <td>1.351318</td>\n",
       "      <td>1.017519</td>\n",
       "    </tr>\n",
       "    <tr>\n",
       "      <th>50%</th>\n",
       "      <td>58.450614</td>\n",
       "      <td>33.255285</td>\n",
       "      <td>34.722505</td>\n",
       "      <td>20.679781</td>\n",
       "      <td>0.001003</td>\n",
       "      <td>13.240510</td>\n",
       "      <td>4.472306</td>\n",
       "      <td>175.312276</td>\n",
       "      <td>0.567907</td>\n",
       "      <td>1.406131</td>\n",
       "      <td>...</td>\n",
       "      <td>26.317698</td>\n",
       "      <td>19.815355</td>\n",
       "      <td>9.613644</td>\n",
       "      <td>0.001994</td>\n",
       "      <td>11.356563</td>\n",
       "      <td>4.454156</td>\n",
       "      <td>128.971763</td>\n",
       "      <td>0.536035</td>\n",
       "      <td>1.455648</td>\n",
       "      <td>1.018821</td>\n",
       "    </tr>\n",
       "    <tr>\n",
       "      <th>75%</th>\n",
       "      <td>366.274753</td>\n",
       "      <td>143.122306</td>\n",
       "      <td>85.835547</td>\n",
       "      <td>48.359529</td>\n",
       "      <td>0.084702</td>\n",
       "      <td>26.486914</td>\n",
       "      <td>9.152136</td>\n",
       "      <td>701.558952</td>\n",
       "      <td>0.639534</td>\n",
       "      <td>1.600350</td>\n",
       "      <td>...</td>\n",
       "      <td>52.167914</td>\n",
       "      <td>40.988955</td>\n",
       "      <td>20.340344</td>\n",
       "      <td>0.087290</td>\n",
       "      <td>17.084196</td>\n",
       "      <td>9.818607</td>\n",
       "      <td>291.869952</td>\n",
       "      <td>0.605760</td>\n",
       "      <td>1.622870</td>\n",
       "      <td>1.019917</td>\n",
       "    </tr>\n",
       "    <tr>\n",
       "      <th>max</th>\n",
       "      <td>15524.135098</td>\n",
       "      <td>5627.906982</td>\n",
       "      <td>3528.485435</td>\n",
       "      <td>3213.255538</td>\n",
       "      <td>4.577890</td>\n",
       "      <td>172.900475</td>\n",
       "      <td>69.414999</td>\n",
       "      <td>29894.574324</td>\n",
       "      <td>0.837207</td>\n",
       "      <td>1.923908</td>\n",
       "      <td>...</td>\n",
       "      <td>3966.714864</td>\n",
       "      <td>2454.759737</td>\n",
       "      <td>1794.801694</td>\n",
       "      <td>6.562066</td>\n",
       "      <td>142.243744</td>\n",
       "      <td>75.325747</td>\n",
       "      <td>20233.282779</td>\n",
       "      <td>0.823632</td>\n",
       "      <td>1.847790</td>\n",
       "      <td>1.022099</td>\n",
       "    </tr>\n",
       "  </tbody>\n",
       "</table>\n",
       "<p>8 rows × 352 columns</p>\n",
       "</div>"
      ],
      "text/plain": [
       "           Theta_01     Alpha_01      Beta_01     Gamma_01     Mean_01  \\\n",
       "count    880.000000   880.000000   880.000000   880.000000  880.000000   \n",
       "mean     547.699828   182.780787   101.611223    64.360730    0.017145   \n",
       "std     1217.588842   397.609258   198.334644   161.216361    0.596332   \n",
       "min        2.698928     2.770151     4.833550     1.069233   -3.520997   \n",
       "25%       24.093211    14.191465    18.086819     9.012946   -0.089709   \n",
       "50%       58.450614    33.255285    34.722505    20.679781    0.001003   \n",
       "75%      366.274753   143.122306    85.835547    48.359529    0.084702   \n",
       "max    15524.135098  5627.906982  3528.485435  3213.255538    4.577890   \n",
       "\n",
       "           Std_01  Kurtosis_01   Activity_01  Mobility_01  Complexity_01  ...  \\\n",
       "count  880.000000   880.000000    880.000000   880.000000     880.000000  ...   \n",
       "mean    22.269416     6.704348    960.430091     0.555040       1.451385  ...   \n",
       "std     21.564593     6.998941   2026.699881     0.122132       0.183035  ...   \n",
       "min      3.522773     0.272780     12.409932     0.298648       1.093989  ...   \n",
       "25%      9.139276     1.983144     83.526374     0.478303       1.315828  ...   \n",
       "50%     13.240510     4.472306    175.312276     0.567907       1.406131  ...   \n",
       "75%     26.486914     9.152136    701.558952     0.639534       1.600350  ...   \n",
       "max    172.900475    69.414999  29894.574324     0.837207       1.923908  ...   \n",
       "\n",
       "          Alpha_32      Beta_32     Gamma_32     Mean_32      Std_32  \\\n",
       "count   880.000000   880.000000   880.000000  880.000000  880.000000   \n",
       "mean    169.975618   122.210202    78.234919    0.015499   18.592351   \n",
       "std     476.333660   327.015453   241.881491    0.594446   23.119341   \n",
       "min       3.617116     5.084168     0.877576   -5.487914    4.085784   \n",
       "25%       9.851048    11.077585     4.285074   -0.075937    7.408875   \n",
       "50%      26.317698    19.815355     9.613644    0.001994   11.356563   \n",
       "75%      52.167914    40.988955    20.340344    0.087290   17.084196   \n",
       "max    3966.714864  2454.759737  1794.801694    6.562066  142.243744   \n",
       "\n",
       "       Kurtosis_32   Activity_32  Mobility_32  Complexity_32  \\\n",
       "count   880.000000    880.000000   880.000000     880.000000   \n",
       "mean      6.644478    879.572052     0.528960       1.478235   \n",
       "std       6.766369   2452.977717     0.110149       0.166496   \n",
       "min       0.133386     16.693629     0.316209       1.106087   \n",
       "25%       1.985953     54.891433     0.439337       1.351318   \n",
       "50%       4.454156    128.971763     0.536035       1.455648   \n",
       "75%       9.818607    291.869952     0.605760       1.622870   \n",
       "max      75.325747  20233.282779     0.823632       1.847790   \n",
       "\n",
       "       Fractal dimension_32  \n",
       "count            880.000000  \n",
       "mean               1.018617  \n",
       "std                0.001767  \n",
       "min                1.013454  \n",
       "25%                1.017519  \n",
       "50%                1.018821  \n",
       "75%                1.019917  \n",
       "max                1.022099  \n",
       "\n",
       "[8 rows x 352 columns]"
      ]
     },
     "execution_count": 44,
     "metadata": {},
     "output_type": "execute_result"
    }
   ],
   "source": [
    "df_x.describe()"
   ]
  },
  {
   "cell_type": "markdown",
   "metadata": {},
   "source": [
    "Channels are devided by their position in the cerebral cortex."
   ]
  },
  {
   "cell_type": "code",
   "execution_count": 45,
   "metadata": {},
   "outputs": [],
   "source": [
    "band_names = np.array([\"theta\", \"alpha\", \"beta\", \"gamma\"])\n",
    "channel_names = np.array([\"left\", \"frontal\", \"right\", \"central\", \"parietal\", \"occipital\"])\n",
    "label_names = np.array([\"valence\", \"arousal\"])"
   ]
  },
  {
   "cell_type": "code",
   "execution_count": 46,
   "metadata": {},
   "outputs": [],
   "source": [
    "left = np.array([\"Fp1\", \"AF3\", \"F7\", \"FC5\", \"T7\"])\n",
    "right = np.array([\"Fp2\", \"AF4\", \"F8\", \"FC6\", \"T8\"])\n",
    "frontal = np.array([\"F3\", \"FC1\", \"Fz\", \"F4\", \"FC2\"])\n",
    "parietal = np.array([\"P3\", \"P7\", \"Pz\", \"P4\", \"P8\"])\n",
    "occipital = np.array([\"O1\", \"Oz\", \"O2\", \"PO3\", \"PO4\"])\n",
    "central = np.array([\"CP5\", \"CP1\", \"Cz\", \"C4\", \"C3\", \"CP6\", \"CP2\"])"
   ]
  },
  {
   "cell_type": "code",
   "execution_count": 47,
   "metadata": {},
   "outputs": [
    {
     "name": "stdout",
     "output_type": "stream",
     "text": [
      "Creating RawArray with float64 data, n_channels=32, n_times=8064\n",
      "    Range : 0 ... 8063 =      0.000 ...    62.992 secs\n",
      "Ready.\n",
      "Creating RawArray with float64 data, n_channels=32, n_times=1\n",
      "    Range : 0 ... 0 =      0.000 ...     0.000 secs\n",
      "Ready.\n"
     ]
    },
    {
     "data": {
      "image/png": "[encoded data removed]",
      "text/plain": [
       "<Figure size 432x432 with 1 Axes>"
      ]
     },
     "metadata": {},
     "output_type": "display_data"
    },
    {
     "data": {
      "image/png": "[encoded data removed]",
      "text/plain": [
       "<Figure size 432x432 with 1 Axes>"
      ]
     },
     "execution_count": 47,
     "metadata": {},
     "output_type": "execute_result"
    }
   ],
   "source": [
    "info = mne.create_info(eeg_channels.tolist(), ch_types=32*['eeg'], sfreq=128)\n",
    "info.set_montage('standard_1020')\n",
    "raw_data = mne.io.RawArray(eeg_data[31], info)\n",
    "montage = mne.channels.make_standard_montage(\"biosemi32\")\n",
    "raw_data.set_montage(montage)\n",
    "montage.plot()"
   ]
  },
  {
   "cell_type": "code",
   "execution_count": 48,
   "metadata": {},
   "outputs": [],
   "source": [
    "def get_data_by_band(band):\n",
    "    result = []\n",
    "    for i in range (len(eeg_data)):\n",
    "        for j in range (len(eeg_data[0])):\n",
    "            result.append(get_band_power(i, j, band))\n",
    "    return np.reshape(result, (participant_count * trial_count, len(eeg_channels)))"
   ]
  },
  {
   "cell_type": "code",
   "execution_count": 49,
   "metadata": {},
   "outputs": [],
   "source": [
    "df_theta = pd.DataFrame(data = get_data_by_band('theta'), columns=eeg_channels)\n",
    "df_alpha = pd.DataFrame(data = get_data_by_band('alpha'), columns=eeg_channels)\n",
    "df_beta = pd.DataFrame(data = get_data_by_band('beta'), columns=eeg_channels)\n",
    "df_gamma =  pd.DataFrame(data = get_data_by_band('gamma'), columns=eeg_channels)"
   ]
  },
  {
   "cell_type": "code",
   "execution_count": 50,
   "metadata": {},
   "outputs": [
    {
     "data": {
      "text/html": [
       "<div>\n",
       "<style scoped>\n",
       "    .dataframe tbody tr th:only-of-type {\n",
       "        vertical-align: middle;\n",
       "    }\n",
       "\n",
       "    .dataframe tbody tr th {\n",
       "        vertical-align: top;\n",
       "    }\n",
       "\n",
       "    .dataframe thead th {\n",
       "        text-align: right;\n",
       "    }\n",
       "</style>\n",
       "<table border=\"1\" class=\"dataframe\">\n",
       "  <thead>\n",
       "    <tr style=\"text-align: right;\">\n",
       "      <th></th>\n",
       "      <th>Fp1</th>\n",
       "      <th>AF3</th>\n",
       "      <th>F3</th>\n",
       "      <th>F7</th>\n",
       "      <th>FC5</th>\n",
       "      <th>FC1</th>\n",
       "      <th>C3</th>\n",
       "      <th>T7</th>\n",
       "      <th>CP5</th>\n",
       "      <th>CP1</th>\n",
       "      <th>...</th>\n",
       "      <th>FC2</th>\n",
       "      <th>Cz</th>\n",
       "      <th>C4</th>\n",
       "      <th>T8</th>\n",
       "      <th>CP6</th>\n",
       "      <th>CP2</th>\n",
       "      <th>P4</th>\n",
       "      <th>P8</th>\n",
       "      <th>PO4</th>\n",
       "      <th>O2</th>\n",
       "    </tr>\n",
       "  </thead>\n",
       "  <tbody>\n",
       "    <tr>\n",
       "      <th>0</th>\n",
       "      <td>3.966387</td>\n",
       "      <td>5.102688</td>\n",
       "      <td>5.853005</td>\n",
       "      <td>5.791977</td>\n",
       "      <td>2.900011</td>\n",
       "      <td>2.800868</td>\n",
       "      <td>3.247666</td>\n",
       "      <td>6.294923</td>\n",
       "      <td>2.722879</td>\n",
       "      <td>1.597882</td>\n",
       "      <td>...</td>\n",
       "      <td>5.180005</td>\n",
       "      <td>2.085303</td>\n",
       "      <td>2.697530</td>\n",
       "      <td>5.868487</td>\n",
       "      <td>1.806959</td>\n",
       "      <td>1.623311</td>\n",
       "      <td>7.875428</td>\n",
       "      <td>2.970414</td>\n",
       "      <td>6.766592</td>\n",
       "      <td>5.434120</td>\n",
       "    </tr>\n",
       "    <tr>\n",
       "      <th>1</th>\n",
       "      <td>5.171664</td>\n",
       "      <td>7.009709</td>\n",
       "      <td>7.645094</td>\n",
       "      <td>8.140612</td>\n",
       "      <td>3.740674</td>\n",
       "      <td>4.221720</td>\n",
       "      <td>4.530124</td>\n",
       "      <td>10.156586</td>\n",
       "      <td>3.478843</td>\n",
       "      <td>2.101888</td>\n",
       "      <td>...</td>\n",
       "      <td>7.370794</td>\n",
       "      <td>2.518165</td>\n",
       "      <td>3.853129</td>\n",
       "      <td>7.779815</td>\n",
       "      <td>2.086140</td>\n",
       "      <td>2.048768</td>\n",
       "      <td>11.846485</td>\n",
       "      <td>3.443451</td>\n",
       "      <td>10.031310</td>\n",
       "      <td>7.958460</td>\n",
       "    </tr>\n",
       "    <tr>\n",
       "      <th>2</th>\n",
       "      <td>4.839268</td>\n",
       "      <td>6.321618</td>\n",
       "      <td>7.312348</td>\n",
       "      <td>8.284604</td>\n",
       "      <td>4.483029</td>\n",
       "      <td>3.744902</td>\n",
       "      <td>4.284358</td>\n",
       "      <td>9.635971</td>\n",
       "      <td>3.711943</td>\n",
       "      <td>1.890259</td>\n",
       "      <td>...</td>\n",
       "      <td>9.049269</td>\n",
       "      <td>2.386166</td>\n",
       "      <td>3.942938</td>\n",
       "      <td>8.851559</td>\n",
       "      <td>2.503685</td>\n",
       "      <td>1.974655</td>\n",
       "      <td>11.283598</td>\n",
       "      <td>3.327840</td>\n",
       "      <td>9.238961</td>\n",
       "      <td>6.864887</td>\n",
       "    </tr>\n",
       "    <tr>\n",
       "      <th>3</th>\n",
       "      <td>4.442888</td>\n",
       "      <td>6.709155</td>\n",
       "      <td>7.652379</td>\n",
       "      <td>7.634402</td>\n",
       "      <td>3.889140</td>\n",
       "      <td>3.290292</td>\n",
       "      <td>4.171965</td>\n",
       "      <td>8.716423</td>\n",
       "      <td>4.004765</td>\n",
       "      <td>1.883543</td>\n",
       "      <td>...</td>\n",
       "      <td>10.374473</td>\n",
       "      <td>7.414694</td>\n",
       "      <td>3.498076</td>\n",
       "      <td>8.670711</td>\n",
       "      <td>2.529543</td>\n",
       "      <td>1.736048</td>\n",
       "      <td>10.927690</td>\n",
       "      <td>3.154698</td>\n",
       "      <td>8.802466</td>\n",
       "      <td>6.850906</td>\n",
       "    </tr>\n",
       "    <tr>\n",
       "      <th>4</th>\n",
       "      <td>2.698928</td>\n",
       "      <td>3.034321</td>\n",
       "      <td>3.150251</td>\n",
       "      <td>3.633784</td>\n",
       "      <td>1.897310</td>\n",
       "      <td>2.025214</td>\n",
       "      <td>1.798486</td>\n",
       "      <td>3.708862</td>\n",
       "      <td>1.857737</td>\n",
       "      <td>1.447578</td>\n",
       "      <td>...</td>\n",
       "      <td>3.629737</td>\n",
       "      <td>1.993286</td>\n",
       "      <td>1.803010</td>\n",
       "      <td>3.425565</td>\n",
       "      <td>1.496299</td>\n",
       "      <td>1.577524</td>\n",
       "      <td>3.697784</td>\n",
       "      <td>2.261119</td>\n",
       "      <td>3.678479</td>\n",
       "      <td>3.681268</td>\n",
       "    </tr>\n",
       "  </tbody>\n",
       "</table>\n",
       "<p>5 rows × 32 columns</p>\n",
       "</div>"
      ],
      "text/plain": [
       "        Fp1       AF3        F3        F7       FC5       FC1        C3  \\\n",
       "0  3.966387  5.102688  5.853005  5.791977  2.900011  2.800868  3.247666   \n",
       "1  5.171664  7.009709  7.645094  8.140612  3.740674  4.221720  4.530124   \n",
       "2  4.839268  6.321618  7.312348  8.284604  4.483029  3.744902  4.284358   \n",
       "3  4.442888  6.709155  7.652379  7.634402  3.889140  3.290292  4.171965   \n",
       "4  2.698928  3.034321  3.150251  3.633784  1.897310  2.025214  1.798486   \n",
       "\n",
       "          T7       CP5       CP1  ...        FC2        Cz        C4  \\\n",
       "0   6.294923  2.722879  1.597882  ...   5.180005  2.085303  2.697530   \n",
       "1  10.156586  3.478843  2.101888  ...   7.370794  2.518165  3.853129   \n",
       "2   9.635971  3.711943  1.890259  ...   9.049269  2.386166  3.942938   \n",
       "3   8.716423  4.004765  1.883543  ...  10.374473  7.414694  3.498076   \n",
       "4   3.708862  1.857737  1.447578  ...   3.629737  1.993286  1.803010   \n",
       "\n",
       "         T8       CP6       CP2         P4        P8        PO4        O2  \n",
       "0  5.868487  1.806959  1.623311   7.875428  2.970414   6.766592  5.434120  \n",
       "1  7.779815  2.086140  2.048768  11.846485  3.443451  10.031310  7.958460  \n",
       "2  8.851559  2.503685  1.974655  11.283598  3.327840   9.238961  6.864887  \n",
       "3  8.670711  2.529543  1.736048  10.927690  3.154698   8.802466  6.850906  \n",
       "4  3.425565  1.496299  1.577524   3.697784  2.261119   3.678479  3.681268  \n",
       "\n",
       "[5 rows x 32 columns]"
      ]
     },
     "execution_count": 50,
     "metadata": {},
     "output_type": "execute_result"
    }
   ],
   "source": [
    "df_theta.head(5)"
   ]
  },
  {
   "cell_type": "code",
   "execution_count": 51,
   "metadata": {},
   "outputs": [
    {
     "data": {
      "text/html": [
       "<div>\n",
       "<style scoped>\n",
       "    .dataframe tbody tr th:only-of-type {\n",
       "        vertical-align: middle;\n",
       "    }\n",
       "\n",
       "    .dataframe tbody tr th {\n",
       "        vertical-align: top;\n",
       "    }\n",
       "\n",
       "    .dataframe thead th {\n",
       "        text-align: right;\n",
       "    }\n",
       "</style>\n",
       "<table border=\"1\" class=\"dataframe\">\n",
       "  <thead>\n",
       "    <tr style=\"text-align: right;\">\n",
       "      <th></th>\n",
       "      <th>Fp1</th>\n",
       "      <th>AF3</th>\n",
       "      <th>F3</th>\n",
       "      <th>F7</th>\n",
       "      <th>FC5</th>\n",
       "      <th>FC1</th>\n",
       "      <th>C3</th>\n",
       "      <th>T7</th>\n",
       "      <th>CP5</th>\n",
       "      <th>CP1</th>\n",
       "      <th>...</th>\n",
       "      <th>FC2</th>\n",
       "      <th>Cz</th>\n",
       "      <th>C4</th>\n",
       "      <th>T8</th>\n",
       "      <th>CP6</th>\n",
       "      <th>CP2</th>\n",
       "      <th>P4</th>\n",
       "      <th>P8</th>\n",
       "      <th>PO4</th>\n",
       "      <th>O2</th>\n",
       "    </tr>\n",
       "  </thead>\n",
       "  <tbody>\n",
       "    <tr>\n",
       "      <th>count</th>\n",
       "      <td>880.000000</td>\n",
       "      <td>880.000000</td>\n",
       "      <td>880.000000</td>\n",
       "      <td>880.000000</td>\n",
       "      <td>880.000000</td>\n",
       "      <td>880.000000</td>\n",
       "      <td>880.000000</td>\n",
       "      <td>880.000000</td>\n",
       "      <td>880.000000</td>\n",
       "      <td>880.000000</td>\n",
       "      <td>...</td>\n",
       "      <td>880.000000</td>\n",
       "      <td>880.000000</td>\n",
       "      <td>880.000000</td>\n",
       "      <td>880.000000</td>\n",
       "      <td>880.000000</td>\n",
       "      <td>880.000000</td>\n",
       "      <td>880.000000</td>\n",
       "      <td>880.000000</td>\n",
       "      <td>880.000000</td>\n",
       "      <td>880.000000</td>\n",
       "    </tr>\n",
       "    <tr>\n",
       "      <th>mean</th>\n",
       "      <td>547.699828</td>\n",
       "      <td>1275.383637</td>\n",
       "      <td>961.474061</td>\n",
       "      <td>2081.240523</td>\n",
       "      <td>946.543725</td>\n",
       "      <td>335.659847</td>\n",
       "      <td>629.689546</td>\n",
       "      <td>384.184590</td>\n",
       "      <td>437.472694</td>\n",
       "      <td>278.676186</td>\n",
       "      <td>...</td>\n",
       "      <td>694.346729</td>\n",
       "      <td>520.276926</td>\n",
       "      <td>569.941908</td>\n",
       "      <td>947.742121</td>\n",
       "      <td>575.489698</td>\n",
       "      <td>375.372215</td>\n",
       "      <td>623.574638</td>\n",
       "      <td>222.104105</td>\n",
       "      <td>810.241713</td>\n",
       "      <td>445.032766</td>\n",
       "    </tr>\n",
       "    <tr>\n",
       "      <th>std</th>\n",
       "      <td>1217.588842</td>\n",
       "      <td>3736.181334</td>\n",
       "      <td>3558.843893</td>\n",
       "      <td>5918.701828</td>\n",
       "      <td>2572.974374</td>\n",
       "      <td>714.083236</td>\n",
       "      <td>1774.585233</td>\n",
       "      <td>690.041682</td>\n",
       "      <td>1326.666132</td>\n",
       "      <td>515.088325</td>\n",
       "      <td>...</td>\n",
       "      <td>1782.737328</td>\n",
       "      <td>1493.332128</td>\n",
       "      <td>2229.097482</td>\n",
       "      <td>2639.423665</td>\n",
       "      <td>1793.343586</td>\n",
       "      <td>766.492823</td>\n",
       "      <td>1647.573754</td>\n",
       "      <td>498.711644</td>\n",
       "      <td>1937.328397</td>\n",
       "      <td>1285.492111</td>\n",
       "    </tr>\n",
       "    <tr>\n",
       "      <th>min</th>\n",
       "      <td>2.698928</td>\n",
       "      <td>3.034321</td>\n",
       "      <td>3.150251</td>\n",
       "      <td>3.633784</td>\n",
       "      <td>1.897310</td>\n",
       "      <td>2.025214</td>\n",
       "      <td>1.798486</td>\n",
       "      <td>3.708862</td>\n",
       "      <td>1.857737</td>\n",
       "      <td>1.340340</td>\n",
       "      <td>...</td>\n",
       "      <td>3.420568</td>\n",
       "      <td>1.890924</td>\n",
       "      <td>1.713283</td>\n",
       "      <td>2.133474</td>\n",
       "      <td>1.496299</td>\n",
       "      <td>1.577431</td>\n",
       "      <td>3.697784</td>\n",
       "      <td>2.167476</td>\n",
       "      <td>3.678479</td>\n",
       "      <td>3.681268</td>\n",
       "    </tr>\n",
       "    <tr>\n",
       "      <th>25%</th>\n",
       "      <td>24.093211</td>\n",
       "      <td>18.601381</td>\n",
       "      <td>22.046306</td>\n",
       "      <td>39.123277</td>\n",
       "      <td>13.872183</td>\n",
       "      <td>14.679788</td>\n",
       "      <td>25.657664</td>\n",
       "      <td>53.064342</td>\n",
       "      <td>17.935262</td>\n",
       "      <td>27.918373</td>\n",
       "      <td>...</td>\n",
       "      <td>36.617343</td>\n",
       "      <td>30.904918</td>\n",
       "      <td>10.982013</td>\n",
       "      <td>25.020595</td>\n",
       "      <td>25.419189</td>\n",
       "      <td>22.901013</td>\n",
       "      <td>25.784262</td>\n",
       "      <td>19.265772</td>\n",
       "      <td>27.492929</td>\n",
       "      <td>18.065682</td>\n",
       "    </tr>\n",
       "    <tr>\n",
       "      <th>50%</th>\n",
       "      <td>58.450614</td>\n",
       "      <td>72.755754</td>\n",
       "      <td>73.991298</td>\n",
       "      <td>105.346160</td>\n",
       "      <td>43.000439</td>\n",
       "      <td>66.131967</td>\n",
       "      <td>55.403952</td>\n",
       "      <td>134.362766</td>\n",
       "      <td>50.080690</td>\n",
       "      <td>51.480993</td>\n",
       "      <td>...</td>\n",
       "      <td>82.247246</td>\n",
       "      <td>77.880479</td>\n",
       "      <td>25.499318</td>\n",
       "      <td>90.613223</td>\n",
       "      <td>92.051799</td>\n",
       "      <td>73.741624</td>\n",
       "      <td>78.636675</td>\n",
       "      <td>80.094638</td>\n",
       "      <td>66.291245</td>\n",
       "      <td>59.377992</td>\n",
       "    </tr>\n",
       "    <tr>\n",
       "      <th>75%</th>\n",
       "      <td>366.274753</td>\n",
       "      <td>313.477898</td>\n",
       "      <td>196.346622</td>\n",
       "      <td>278.757018</td>\n",
       "      <td>256.012013</td>\n",
       "      <td>306.527528</td>\n",
       "      <td>269.628113</td>\n",
       "      <td>400.012778</td>\n",
       "      <td>205.442985</td>\n",
       "      <td>248.159200</td>\n",
       "      <td>...</td>\n",
       "      <td>232.720256</td>\n",
       "      <td>337.152806</td>\n",
       "      <td>131.159987</td>\n",
       "      <td>437.586473</td>\n",
       "      <td>269.262084</td>\n",
       "      <td>299.824333</td>\n",
       "      <td>271.162456</td>\n",
       "      <td>201.890180</td>\n",
       "      <td>463.254689</td>\n",
       "      <td>137.771412</td>\n",
       "    </tr>\n",
       "    <tr>\n",
       "      <th>max</th>\n",
       "      <td>15524.135098</td>\n",
       "      <td>38122.870846</td>\n",
       "      <td>39431.320394</td>\n",
       "      <td>49272.793208</td>\n",
       "      <td>20182.668545</td>\n",
       "      <td>8542.244175</td>\n",
       "      <td>26021.167025</td>\n",
       "      <td>7023.985761</td>\n",
       "      <td>14679.421894</td>\n",
       "      <td>5972.589469</td>\n",
       "      <td>...</td>\n",
       "      <td>18617.218099</td>\n",
       "      <td>16408.471958</td>\n",
       "      <td>24826.365142</td>\n",
       "      <td>28038.714329</td>\n",
       "      <td>19908.437378</td>\n",
       "      <td>7210.746793</td>\n",
       "      <td>17568.065100</td>\n",
       "      <td>5487.311705</td>\n",
       "      <td>17167.017710</td>\n",
       "      <td>12314.030522</td>\n",
       "    </tr>\n",
       "  </tbody>\n",
       "</table>\n",
       "<p>8 rows × 32 columns</p>\n",
       "</div>"
      ],
      "text/plain": [
       "                Fp1           AF3            F3            F7           FC5  \\\n",
       "count    880.000000    880.000000    880.000000    880.000000    880.000000   \n",
       "mean     547.699828   1275.383637    961.474061   2081.240523    946.543725   \n",
       "std     1217.588842   3736.181334   3558.843893   5918.701828   2572.974374   \n",
       "min        2.698928      3.034321      3.150251      3.633784      1.897310   \n",
       "25%       24.093211     18.601381     22.046306     39.123277     13.872183   \n",
       "50%       58.450614     72.755754     73.991298    105.346160     43.000439   \n",
       "75%      366.274753    313.477898    196.346622    278.757018    256.012013   \n",
       "max    15524.135098  38122.870846  39431.320394  49272.793208  20182.668545   \n",
       "\n",
       "               FC1            C3           T7           CP5          CP1  ...  \\\n",
       "count   880.000000    880.000000   880.000000    880.000000   880.000000  ...   \n",
       "mean    335.659847    629.689546   384.184590    437.472694   278.676186  ...   \n",
       "std     714.083236   1774.585233   690.041682   1326.666132   515.088325  ...   \n",
       "min       2.025214      1.798486     3.708862      1.857737     1.340340  ...   \n",
       "25%      14.679788     25.657664    53.064342     17.935262    27.918373  ...   \n",
       "50%      66.131967     55.403952   134.362766     50.080690    51.480993  ...   \n",
       "75%     306.527528    269.628113   400.012778    205.442985   248.159200  ...   \n",
       "max    8542.244175  26021.167025  7023.985761  14679.421894  5972.589469  ...   \n",
       "\n",
       "                FC2            Cz            C4            T8           CP6  \\\n",
       "count    880.000000    880.000000    880.000000    880.000000    880.000000   \n",
       "mean     694.346729    520.276926    569.941908    947.742121    575.489698   \n",
       "std     1782.737328   1493.332128   2229.097482   2639.423665   1793.343586   \n",
       "min        3.420568      1.890924      1.713283      2.133474      1.496299   \n",
       "25%       36.617343     30.904918     10.982013     25.020595     25.419189   \n",
       "50%       82.247246     77.880479     25.499318     90.613223     92.051799   \n",
       "75%      232.720256    337.152806    131.159987    437.586473    269.262084   \n",
       "max    18617.218099  16408.471958  24826.365142  28038.714329  19908.437378   \n",
       "\n",
       "               CP2            P4           P8           PO4            O2  \n",
       "count   880.000000    880.000000   880.000000    880.000000    880.000000  \n",
       "mean    375.372215    623.574638   222.104105    810.241713    445.032766  \n",
       "std     766.492823   1647.573754   498.711644   1937.328397   1285.492111  \n",
       "min       1.577431      3.697784     2.167476      3.678479      3.681268  \n",
       "25%      22.901013     25.784262    19.265772     27.492929     18.065682  \n",
       "50%      73.741624     78.636675    80.094638     66.291245     59.377992  \n",
       "75%     299.824333    271.162456   201.890180    463.254689    137.771412  \n",
       "max    7210.746793  17568.065100  5487.311705  17167.017710  12314.030522  \n",
       "\n",
       "[8 rows x 32 columns]"
      ]
     },
     "execution_count": 51,
     "metadata": {},
     "output_type": "execute_result"
    }
   ],
   "source": [
    "df_theta.describe()"
   ]
  },
  {
   "cell_type": "code",
   "execution_count": 52,
   "metadata": {},
   "outputs": [
    {
     "data": {
      "text/html": [
       "<div>\n",
       "<style scoped>\n",
       "    .dataframe tbody tr th:only-of-type {\n",
       "        vertical-align: middle;\n",
       "    }\n",
       "\n",
       "    .dataframe tbody tr th {\n",
       "        vertical-align: top;\n",
       "    }\n",
       "\n",
       "    .dataframe thead th {\n",
       "        text-align: right;\n",
       "    }\n",
       "</style>\n",
       "<table border=\"1\" class=\"dataframe\">\n",
       "  <thead>\n",
       "    <tr style=\"text-align: right;\">\n",
       "      <th></th>\n",
       "      <th>Fp1</th>\n",
       "      <th>AF3</th>\n",
       "      <th>F7</th>\n",
       "      <th>FC5</th>\n",
       "      <th>T7</th>\n",
       "    </tr>\n",
       "  </thead>\n",
       "  <tbody>\n",
       "    <tr>\n",
       "      <th>count</th>\n",
       "      <td>880.000000</td>\n",
       "      <td>880.000000</td>\n",
       "      <td>880.000000</td>\n",
       "      <td>880.000000</td>\n",
       "      <td>880.000000</td>\n",
       "    </tr>\n",
       "    <tr>\n",
       "      <th>mean</th>\n",
       "      <td>547.699828</td>\n",
       "      <td>1275.383637</td>\n",
       "      <td>2081.240523</td>\n",
       "      <td>946.543725</td>\n",
       "      <td>384.184590</td>\n",
       "    </tr>\n",
       "    <tr>\n",
       "      <th>std</th>\n",
       "      <td>1217.588842</td>\n",
       "      <td>3736.181334</td>\n",
       "      <td>5918.701828</td>\n",
       "      <td>2572.974374</td>\n",
       "      <td>690.041682</td>\n",
       "    </tr>\n",
       "    <tr>\n",
       "      <th>min</th>\n",
       "      <td>2.698928</td>\n",
       "      <td>3.034321</td>\n",
       "      <td>3.633784</td>\n",
       "      <td>1.897310</td>\n",
       "      <td>3.708862</td>\n",
       "    </tr>\n",
       "    <tr>\n",
       "      <th>25%</th>\n",
       "      <td>24.093211</td>\n",
       "      <td>18.601381</td>\n",
       "      <td>39.123277</td>\n",
       "      <td>13.872183</td>\n",
       "      <td>53.064342</td>\n",
       "    </tr>\n",
       "    <tr>\n",
       "      <th>50%</th>\n",
       "      <td>58.450614</td>\n",
       "      <td>72.755754</td>\n",
       "      <td>105.346160</td>\n",
       "      <td>43.000439</td>\n",
       "      <td>134.362766</td>\n",
       "    </tr>\n",
       "    <tr>\n",
       "      <th>75%</th>\n",
       "      <td>366.274753</td>\n",
       "      <td>313.477898</td>\n",
       "      <td>278.757018</td>\n",
       "      <td>256.012013</td>\n",
       "      <td>400.012778</td>\n",
       "    </tr>\n",
       "    <tr>\n",
       "      <th>max</th>\n",
       "      <td>15524.135098</td>\n",
       "      <td>38122.870846</td>\n",
       "      <td>49272.793208</td>\n",
       "      <td>20182.668545</td>\n",
       "      <td>7023.985761</td>\n",
       "    </tr>\n",
       "  </tbody>\n",
       "</table>\n",
       "</div>"
      ],
      "text/plain": [
       "                Fp1           AF3            F7           FC5           T7\n",
       "count    880.000000    880.000000    880.000000    880.000000   880.000000\n",
       "mean     547.699828   1275.383637   2081.240523    946.543725   384.184590\n",
       "std     1217.588842   3736.181334   5918.701828   2572.974374   690.041682\n",
       "min        2.698928      3.034321      3.633784      1.897310     3.708862\n",
       "25%       24.093211     18.601381     39.123277     13.872183    53.064342\n",
       "50%       58.450614     72.755754    105.346160     43.000439   134.362766\n",
       "75%      366.274753    313.477898    278.757018    256.012013   400.012778\n",
       "max    15524.135098  38122.870846  49272.793208  20182.668545  7023.985761"
      ]
     },
     "execution_count": 52,
     "metadata": {},
     "output_type": "execute_result"
    }
   ],
   "source": [
    "df_theta[left].describe()"
   ]
  },
  {
   "cell_type": "markdown",
   "metadata": {},
   "source": [
    "# 4. Feature selection"
   ]
  },
  {
   "cell_type": "markdown",
   "metadata": {},
   "source": [
    "## 4.1. Feature scaling"
   ]
  },
  {
   "cell_type": "markdown",
   "metadata": {},
   "source": [
    "For Feature Scaling we should adapt basic StandartScaler"
   ]
  },
  {
   "cell_type": "code",
   "execution_count": 53,
   "metadata": {},
   "outputs": [],
   "source": [
    "def feature_scaling(train, test):\n",
    "    sc = StandardScaler()\n",
    "    train = sc.fit_transform(train)\n",
    "    test = sc.transform(test)\n",
    "    return train, test"
   ]
  },
  {
   "cell_type": "code",
   "execution_count": 54,
   "metadata": {},
   "outputs": [],
   "source": [
    "def scale_data(to_scale):\n",
    "    sc = StandardScaler()\n",
    "    return sc.fit_transform(to_scale.reshape(1, -1))"
   ]
  },
  {
   "cell_type": "markdown",
   "metadata": {},
   "source": [
    "## 4.2. Feature selection"
   ]
  },
  {
   "cell_type": "markdown",
   "metadata": {},
   "source": [
    "Remake df uses Feature Scaling and PCA for 1) normalizing data and 2) Feature Selection, generating new_df from df_x, with reduced number of features, which are normalized"
   ]
  },
  {
   "cell_type": "code",
   "execution_count": 124,
   "metadata": {},
   "outputs": [],
   "source": [
    "def remake_df(df_x, components):\n",
    "    sc = StandardScaler()\n",
    "    new_x = sc.fit_transform(df_x)\n",
    "    \n",
    "    pca = PCA(n_components=components)\n",
    "    \n",
    "    principal_components = pca.fit_transform(new_x)\n",
    "    header = [''] * components\n",
    "    for i in range(components):\n",
    "        header[i] = 'pc_' + str(i)\n",
    "        \n",
    "    new_df = pd.DataFrame(data = principal_components, columns=header)\n",
    "    return new_df"
   ]
  },
  {
   "cell_type": "markdown",
   "metadata": {},
   "source": [
    "# 5. Analysis"
   ]
  },
  {
   "cell_type": "markdown",
   "metadata": {},
   "source": [
    "## 5.1. Simple. Cross-validation to select classifier"
   ]
  },
  {
   "cell_type": "code",
   "execution_count": 55,
   "metadata": {},
   "outputs": [],
   "source": [
    "def split_train_test(x, y):\n",
    "    x_train, x_test, y_train, y_test = train_test_split(x, y, test_size=0.30, random_state=42)\n",
    "    return x_train, x_test, y_train, y_test"
   ]
  },
  {
   "cell_type": "code",
   "execution_count": null,
   "metadata": {},
   "outputs": [],
   "source": [
    "# Let's try to use different methods - SVC, k-nn and MLP\n",
    "clf_svm = SVC(kernel = 'linear', random_state = 42, probability=True)\n",
    "clf_knn = KNeighborsClassifier(n_neighbors=5, weights='distance', algorithm='auto')\n",
    "clf_mlp = MLPClassifier(solver='adam', activation='tanh', alpha=0.3, max_iter=1000)\n",
    "\n",
    "models = []\n",
    "models.append(('SVM', clf_svm))\n",
    "models.append(('k-NN', clf_knn))\n",
    "models.append(('MLP', clf_mlp))"
   ]
  },
  {
   "cell_type": "code",
   "execution_count": 57,
   "metadata": {},
   "outputs": [],
   "source": [
    "def cross_validate_clf_simple(df_x, df_y, scoring):\n",
    "    x_train, x_test, y_train, y_test = split_train_test(df_x, df_y)\n",
    "\n",
    "    names = []\n",
    "    means = []\n",
    "    stds = []\n",
    "    times = []\n",
    "    max_accuracy = 0\n",
    "\n",
    "    for name, model in models:\n",
    "        start_time = time.time()\n",
    "        \n",
    "        kfold = model_selection.KFold(n_splits=5)\n",
    "        cv_results = model_selection.cross_val_score(model, x_train, y_train, cv=kfold, scoring=scoring)\n",
    "        \n",
    "        times.append(time.time() - start_time)\n",
    "        means.append(cv_results.mean())\n",
    "        stds.append(cv_results.std())\n",
    "        names.append(name)\n",
    "        max_accuracy = max(max_accuracy, cv_results.mean())\n",
    "\n",
    "    return names, means, stds, times, max_accuracy"
   ]
  },
  {
   "cell_type": "code",
   "execution_count": 58,
   "metadata": {},
   "outputs": [],
   "source": [
    "# cross_validate_clf_simple(df_x, df_arousal, 'accuracy')"
   ]
  },
  {
   "cell_type": "code",
   "execution_count": 59,
   "metadata": {},
   "outputs": [],
   "source": [
    "# cross_validate_clf_simple(df_x, df_valence, 'accuracy')"
   ]
  },
  {
   "cell_type": "code",
   "execution_count": 60,
   "metadata": {},
   "outputs": [],
   "source": [
    "# cross_validate_clf_simple(df_x, df_state, 'accuracy')"
   ]
  },
  {
   "cell_type": "code",
   "execution_count": 61,
   "metadata": {},
   "outputs": [],
   "source": [
    "import time\n",
    "def cross_validate_clf_scaled(df_x, df_y, scoring):\n",
    "    x_train, x_test, y_train, y_test = split_train_test(df_x, df_y)\n",
    "    \n",
    "    # Feature scaling\n",
    "    x_train, x_test = feature_scaling(x_train, x_test)\n",
    "\n",
    "    names = []\n",
    "    means = []\n",
    "    stds = []\n",
    "    times = []\n",
    "    max_accuracy = 0\n",
    "\n",
    "    for name, model in models:\n",
    "        start_time = time.time()\n",
    "        \n",
    "        kfold = model_selection.KFold(n_splits=5)\n",
    "        cv_results = model_selection.cross_val_score(model, x_train, y_train, cv=kfold, scoring=scoring)\n",
    "        \n",
    "        times.append(time.time() - start_time)\n",
    "        means.append(cv_results.mean())\n",
    "        stds.append(cv_results.std())\n",
    "        names.append(name)\n",
    "        max_accuracy = max(max_accuracy, cv_results.mean())\n",
    "\n",
    "    return names, means, stds, times, max_accuracy"
   ]
  },
  {
   "cell_type": "code",
   "execution_count": 62,
   "metadata": {},
   "outputs": [
    {
     "data": {
      "text/plain": [
       "(['SVM', 'k-NN', 'MLP'],\n",
       " [0.5990165224232887, 0.5795043273013375, 0.5714266981379492],\n",
       " [0.03480606420924427, 0.04099654665486421, 0.022048919017113172],\n",
       " [3.198373317718506, 0.2558562755584717, 10.197373628616333],\n",
       " 0.5990165224232887)"
      ]
     },
     "execution_count": 62,
     "metadata": {},
     "output_type": "execute_result"
    }
   ],
   "source": [
    "cross_validate_clf_scaled(df_x, df_arousal, 'accuracy')"
   ]
  },
  {
   "cell_type": "code",
   "execution_count": 63,
   "metadata": {},
   "outputs": [
    {
     "data": {
      "text/plain": [
       "(['SVM', 'k-NN', 'MLP'],\n",
       " [0.6087857330186205, 0.5893259900340939, 0.6104510883818516],\n",
       " [0.03552733155514185, 0.04883336248723145, 0.03484988653904526],\n",
       " [3.4351491928100586, 0.2196667194366455, 9.660489797592163],\n",
       " 0.6104510883818516)"
      ]
     },
     "execution_count": 63,
     "metadata": {},
     "output_type": "execute_result"
    }
   ],
   "source": [
    "cross_validate_clf_scaled(df_x, df_valence, 'accuracy')"
   ]
  },
  {
   "cell_type": "code",
   "execution_count": 64,
   "metadata": {},
   "outputs": [
    {
     "name": "stderr",
     "output_type": "stream",
     "text": [
      "C:\\Users\\aspet\\anaconda3\\lib\\site-packages\\sklearn\\neural_network\\_multilayer_perceptron.py:582: ConvergenceWarning: Stochastic Optimizer: Maximum iterations (600) reached and the optimization hasn't converged yet.\n",
      "  warnings.warn(\n"
     ]
    },
    {
     "data": {
      "text/plain": [
       "(['SVM', 'k-NN', 'MLP'],\n",
       " [0.34086021505376346, 0.36685024914765274, 0.3571466037241018],\n",
       " [0.05807659734287172, 0.0418919561855764, 0.03087306252909517],\n",
       " [4.008639335632324, 0.22411155700683594, 14.262584447860718],\n",
       " 0.36685024914765274)"
      ]
     },
     "execution_count": 64,
     "metadata": {},
     "output_type": "execute_result"
    }
   ],
   "source": [
    "cross_validate_clf_scaled(df_x, df_state, 'accuracy')"
   ]
  },
  {
   "cell_type": "markdown",
   "metadata": {},
   "source": [
    "## 5.2. Getting accuracy"
   ]
  },
  {
   "cell_type": "code",
   "execution_count": 69,
   "metadata": {},
   "outputs": [],
   "source": [
    "def run_clf_cv(df_x, df_y, clf):\n",
    "\n",
    "    x_train, x_test, y_train, y_test = split_train_test(df_x, df_y)\n",
    "  \n",
    "    x_for_kfold = np.array(x_train)            \n",
    "    y_for_kfold = np.array(y_train)\n",
    "    kfold = model_selection.KFold(n_splits=5)\n",
    "\n",
    "    for i, j in kfold.split(x_for_kfold):\n",
    "        x_train2, x_test2 = x_for_kfold[i], x_for_kfold[j]\n",
    "        y_train2, y_test2 = y_for_kfold[i], y_for_kfold[j]\n",
    "  \n",
    "    x_train2, x_test2 = feature_scaling(x_train2, x_test2)\n",
    "\n",
    "    if (clf == \"svm\"):\n",
    "        clf_svm.fit(x_train2, y_train2)\n",
    "        y_predict = clf_svm.predict(x_test2)\n",
    "    elif (clf == \"knn\"):\n",
    "        clf_knn.fit(x_train2, y_train2)\n",
    "        y_predict = clf_knn.predict(x_test2)\n",
    "    elif (clf == \"mlp\"):\n",
    "        clf_mlp.fit(x_train2, y_train2)\n",
    "        y_predict = clf_mlp.predict(x_test2)\n",
    "\n",
    "    return y_test2, y_predict"
   ]
  },
  {
   "cell_type": "code",
   "execution_count": 70,
   "metadata": {},
   "outputs": [],
   "source": [
    "def get_accuracy(df_x, df_y, clf):\n",
    "    y_test2, y_predict = run_clf_cv(df_x, df_y, clf)\n",
    "    return np.round(accuracy_score(y_test2, y_predict) * 100, 2)"
   ]
  },
  {
   "cell_type": "code",
   "execution_count": 88,
   "metadata": {},
   "outputs": [],
   "source": [
    "def plot_cm(df_x, df_y, clf):\n",
    "    y_test2, y_predict = run_clf_cv(df_x, df_y, clf)\n",
    "    cm = confusion_matrix(y_test2, y_predict)\n",
    "    print(cm)\n",
    "    cr = classification_report(y_test2, y_predict)\n",
    "    print(cr)\n",
    "\n",
    "    plt.figure()\n",
    "    plt.imshow(cm, interpolation='nearest', cmap=plt.cm.Blues)\n",
    "    plt.colorbar()\n",
    "\n",
    "    \n",
    "    classes = df_y.unique().tolist()\n",
    "\n",
    "    tick_marks = np.arange(len(classes))\n",
    "    plt.xticks(tick_marks, classes, rotation=45)\n",
    "    plt.yticks(tick_marks, classes)\n",
    "\n",
    "    thresh = cm.max() / 2.\n",
    "    for i, j in itertools.product(range(cm.shape[0]), range(cm.shape[1])):\n",
    "        plt.text(j, i, format(cm[i, j], 'd'),\n",
    "                horizontalalignment=\"center\",\n",
    "                color=\"white\" if cm[i, j] > thresh else \"black\")\n",
    "\n",
    "    plt.tight_layout()\n",
    "    plt.ylabel('True label')\n",
    "    plt.xlabel('Predicted label')"
   ]
  },
  {
   "cell_type": "code",
   "execution_count": 82,
   "metadata": {},
   "outputs": [
    {
     "name": "stdout",
     "output_type": "stream",
     "text": [
      "64.23 61.79 57.72\n"
     ]
    }
   ],
   "source": [
    "print(get_accuracy(df_x, df_arousal, 'svm'),\n",
    "        get_accuracy(df_x, df_arousal, 'knn'),\n",
    "            get_accuracy(df_x, df_arousal, 'mlp'))"
   ]
  },
  {
   "cell_type": "code",
   "execution_count": 83,
   "metadata": {},
   "outputs": [
    {
     "name": "stdout",
     "output_type": "stream",
     "text": [
      "67.48 66.67 63.41\n"
     ]
    }
   ],
   "source": [
    "print(get_accuracy(df_x, df_valence, 'svm'),\n",
    "        get_accuracy(df_x, df_valence, 'knn'),\n",
    "          get_accuracy(df_x, df_valence, 'mlp'))"
   ]
  },
  {
   "cell_type": "code",
   "execution_count": 85,
   "metadata": {},
   "outputs": [
    {
     "name": "stdout",
     "output_type": "stream",
     "text": [
      "36.59 43.9 40.65\n"
     ]
    }
   ],
   "source": [
    "print(get_accuracy(df_x, df_state, 'svm'),\n",
    "        get_accuracy(df_x, df_state, 'knn'),\n",
    "            get_accuracy(df_x, df_state, 'mlp'))"
   ]
  },
  {
   "cell_type": "code",
   "execution_count": 89,
   "metadata": {},
   "outputs": [
    {
     "name": "stdout",
     "output_type": "stream",
     "text": [
      "[[35 26]\n",
      " [18 44]]\n",
      "              precision    recall  f1-score   support\n",
      "\n",
      "           0       0.66      0.57      0.61        61\n",
      "           1       0.63      0.71      0.67        62\n",
      "\n",
      "    accuracy                           0.64       123\n",
      "   macro avg       0.64      0.64      0.64       123\n",
      "weighted avg       0.64      0.64      0.64       123\n",
      "\n"
     ]
    },
    {
     "data": {
      "image/png": "[encoded data removed]",
      "text/plain": [
       "<Figure size 432x288 with 2 Axes>"
      ]
     },
     "metadata": {},
     "output_type": "display_data"
    }
   ],
   "source": [
    "plot_cm(df_x, df_arousal, 'svm')"
   ]
  },
  {
   "cell_type": "code",
   "execution_count": 90,
   "metadata": {},
   "outputs": [
    {
     "name": "stdout",
     "output_type": "stream",
     "text": [
      "[[36 17]\n",
      " [23 47]]\n",
      "              precision    recall  f1-score   support\n",
      "\n",
      "           0       0.61      0.68      0.64        53\n",
      "           1       0.73      0.67      0.70        70\n",
      "\n",
      "    accuracy                           0.67       123\n",
      "   macro avg       0.67      0.68      0.67       123\n",
      "weighted avg       0.68      0.67      0.68       123\n",
      "\n"
     ]
    },
    {
     "data": {
      "image/png": "[encoded data removed]",
      "text/plain": [
       "<Figure size 432x288 with 2 Axes>"
      ]
     },
     "metadata": {},
     "output_type": "display_data"
    }
   ],
   "source": [
    "plot_cm(df_x, df_valence, 'svm')"
   ]
  },
  {
   "cell_type": "code",
   "execution_count": 91,
   "metadata": {},
   "outputs": [
    {
     "name": "stdout",
     "output_type": "stream",
     "text": [
      "[[21  7  4  4]\n",
      " [10 14  5  5]\n",
      " [ 4  4 15  3]\n",
      " [ 4  8 11  4]]\n",
      "              precision    recall  f1-score   support\n",
      "\n",
      "           1       0.54      0.58      0.56        36\n",
      "           2       0.42      0.41      0.42        34\n",
      "           3       0.43      0.58      0.49        26\n",
      "           4       0.25      0.15      0.19        27\n",
      "\n",
      "    accuracy                           0.44       123\n",
      "   macro avg       0.41      0.43      0.41       123\n",
      "weighted avg       0.42      0.44      0.42       123\n",
      "\n"
     ]
    },
    {
     "data": {
      "image/png": "[encoded data removed]",
      "text/plain": [
       "<Figure size 432x288 with 2 Axes>"
      ]
     },
     "metadata": {},
     "output_type": "display_data"
    }
   ],
   "source": [
    "plot_cm(df_x, df_state, 'knn')"
   ]
  },
  {
   "cell_type": "code",
   "execution_count": 92,
   "metadata": {},
   "outputs": [],
   "source": [
    "def get_results(df_x, df_y):\n",
    "    max_accuracy = max(get_accuracy(df_x, df_y, 'svm'),\n",
    "                        get_accuracy(df_x, df_y, 'knn'),\n",
    "                            get_accuracy(df_x, df_y, 'mlp'))\n",
    "    return max_accuracy"
   ]
  },
  {
   "cell_type": "code",
   "execution_count": 99,
   "metadata": {},
   "outputs": [],
   "source": [
    "base_results_arousal = get_results(df_x, df_arousal)"
   ]
  },
  {
   "cell_type": "code",
   "execution_count": 100,
   "metadata": {},
   "outputs": [],
   "source": [
    "base_results_valence = get_results(df_x, df_valence)"
   ]
  },
  {
   "cell_type": "code",
   "execution_count": 101,
   "metadata": {},
   "outputs": [
    {
     "name": "stderr",
     "output_type": "stream",
     "text": [
      "C:\\Users\\aspet\\anaconda3\\lib\\site-packages\\sklearn\\neural_network\\_multilayer_perceptron.py:582: ConvergenceWarning: Stochastic Optimizer: Maximum iterations (600) reached and the optimization hasn't converged yet.\n",
      "  warnings.warn(\n"
     ]
    }
   ],
   "source": [
    "base_results_state = get_results(df_x, df_state)"
   ]
  },
  {
   "cell_type": "code",
   "execution_count": 256,
   "metadata": {},
   "outputs": [
    {
     "name": "stdout",
     "output_type": "stream",
     "text": [
      "Arousal accuracy: 64.23\n",
      "Valence accuracy: 67.48\n",
      "State accuracy: 43.9\n"
     ]
    }
   ],
   "source": [
    "print('Arousal accuracy:', base_results_arousal)\n",
    "print('Valence accuracy:', base_results_valence)\n",
    "print('State accuracy:', base_results_state)"
   ]
  },
  {
   "cell_type": "markdown",
   "metadata": {},
   "source": [
    "We aquired decent results (considering scientific papers achieved result ~65 accuracy in Arousal/Valence prediciton)/But we can improve result by implementing PCA"
   ]
  },
  {
   "cell_type": "markdown",
   "metadata": {},
   "source": [
    "## 5.3. Implementing PCA"
   ]
  },
  {
   "cell_type": "markdown",
   "metadata": {},
   "source": [
    "Let's find optimal number of components using function from 4.2"
   ]
  },
  {
   "cell_type": "code",
   "execution_count": 187,
   "metadata": {},
   "outputs": [],
   "source": [
    "def get_pca_results(df_x, df_y):\n",
    "    \n",
    "    result = [0] * 2\n",
    "    for i in trange(2, 75):\n",
    "        new_df = remake_df(df_x, i)\n",
    "        result.append(get_results(new_df, df_y))\n",
    "        \n",
    "    return result    "
   ]
  },
  {
   "cell_type": "code",
   "execution_count": 209,
   "metadata": {},
   "outputs": [],
   "source": [
    "def plot_pca_test_results(df_x, df_y, results=None):\n",
    "    if results is None:\n",
    "        results = get_pca_results(df_x, df_y)\n",
    "    plt.figure(figsize=(7, 4))\n",
    "    x = list(range(2, 75))\n",
    "    plt.plot(x,results[2 : 75], color= 'k')\n",
    "    plt.xlabel('Components_count')\n",
    "    plt.ylabel('Achieved accuracy')\n",
    "    plt.xlim([0, 80])\n",
    "    plt.ylim([min(results[2: 75]) * 0.95,max(results[2: 75]) * 1.05])\n",
    "    plt.title(\"Implementing PCA\")\n",
    "    sns.despine()"
   ]
  },
  {
   "cell_type": "code",
   "execution_count": 198,
   "metadata": {},
   "outputs": [],
   "source": [
    "import warnings\n",
    "from sklearn.exceptions import ConvergenceWarning\n",
    "warnings.filterwarnings(action='ignore', category=ConvergenceWarning)"
   ]
  },
  {
   "cell_type": "code",
   "execution_count": 199,
   "metadata": {},
   "outputs": [
    {
     "name": "stderr",
     "output_type": "stream",
     "text": [
      "100%|██████████| 73/73 [02:25<00:00,  1.99s/it]\n"
     ]
    }
   ],
   "source": [
    "pca_results_arousal = get_pca_results(df_x, df_arousal)"
   ]
  },
  {
   "cell_type": "code",
   "execution_count": 212,
   "metadata": {},
   "outputs": [
    {
     "name": "stderr",
     "output_type": "stream",
     "text": [
      "100%|██████████| 73/73 [02:21<00:00,  1.93s/it]\n"
     ]
    }
   ],
   "source": [
    "pca_results_valence = get_pca_results(df_x, df_valence)"
   ]
  },
  {
   "cell_type": "code",
   "execution_count": 213,
   "metadata": {},
   "outputs": [
    {
     "name": "stderr",
     "output_type": "stream",
     "text": [
      "100%|██████████| 73/73 [02:33<00:00,  2.11s/it]\n"
     ]
    }
   ],
   "source": [
    "pca_results_state = get_pca_results(df_x, df_state)"
   ]
  },
  {
   "cell_type": "code",
   "execution_count": 210,
   "metadata": {},
   "outputs": [
    {
     "data": {
      "image/png": "[encoded data removed]",
      "text/plain": [
       "<Figure size 504x288 with 1 Axes>"
      ]
     },
     "metadata": {},
     "output_type": "display_data"
    }
   ],
   "source": [
    "plot_pca_test_results(df_x, df_arousal, pca_results_arousal)"
   ]
  },
  {
   "cell_type": "code",
   "execution_count": 214,
   "metadata": {},
   "outputs": [
    {
     "data": {
      "image/png": "[encoded data removed]",
      "text/plain": [
       "<Figure size 504x288 with 1 Axes>"
      ]
     },
     "metadata": {},
     "output_type": "display_data"
    }
   ],
   "source": [
    "plot_pca_test_results(df_x, df_valence, pca_results_valence)"
   ]
  },
  {
   "cell_type": "code",
   "execution_count": 215,
   "metadata": {},
   "outputs": [
    {
     "data": {
      "image/png": "[encoded data removed]",
      "text/plain": [
       "<Figure size 504x288 with 1 Axes>"
      ]
     },
     "metadata": {},
     "output_type": "display_data"
    }
   ],
   "source": [
    "plot_pca_test_results(df_x, df_state, pca_results_state)"
   ]
  },
  {
   "cell_type": "code",
   "execution_count": 221,
   "metadata": {},
   "outputs": [],
   "source": [
    "def plot_pca_test_helper2(df_x, df_y, results=None, lower_bound=None, upper_bound=None):\n",
    "    if results is None:\n",
    "        results = get_pca_results(df_x, df_y)\n",
    "    plt.figure(figsize=(7, 4))\n",
    "    if lower_bound is None:\n",
    "        lower_bound = 10\n",
    "    if upper_bound is None:\n",
    "        upper_bound = 40\n",
    "    plt.plot(range(lower_bound, upper_bound), results[lower_bound:upper_bound], color='k')\n",
    "    plt.xlabel('Components_count')\n",
    "    plt.ylabel('Achieved accuracy')\n",
    "    plt.xlim([lower_bound, upper_bound])\n",
    "    plt.ylim([min(results[lower_bound:upper_bound]) * 0.95, max(results[lower_bound:upper_bound]) * 1.05])\n",
    "    plt.title(\"Implementing PCA\")\n",
    "    sns.despine()"
   ]
  },
  {
   "cell_type": "code",
   "execution_count": 222,
   "metadata": {},
   "outputs": [
    {
     "data": {
      "image/png": "[encoded data removed]",
      "text/plain": [
       "<Figure size 504x288 with 1 Axes>"
      ]
     },
     "metadata": {},
     "output_type": "display_data"
    }
   ],
   "source": [
    "plot_pca_test_helper2(df_x, df_arousal, pca_results_arousal, 10, 15)"
   ]
  },
  {
   "cell_type": "markdown",
   "metadata": {},
   "source": [
    "Можно взять число компонент = 12"
   ]
  },
  {
   "cell_type": "code",
   "execution_count": 223,
   "metadata": {},
   "outputs": [
    {
     "data": {
      "image/png": "[encoded data removed]",
      "text/plain": [
       "<Figure size 504x288 with 1 Axes>"
      ]
     },
     "metadata": {},
     "output_type": "display_data"
    }
   ],
   "source": [
    "plot_pca_test_helper2(df_x, df_valence, pca_results_valence, 27, 34)"
   ]
  },
  {
   "cell_type": "markdown",
   "metadata": {},
   "source": [
    "Можно взять число компонент = 30"
   ]
  },
  {
   "cell_type": "code",
   "execution_count": 224,
   "metadata": {},
   "outputs": [
    {
     "data": {
      "image/png": "[encoded data removed]",
      "text/plain": [
       "<Figure size 504x288 with 1 Axes>"
      ]
     },
     "metadata": {},
     "output_type": "display_data"
    }
   ],
   "source": [
    "plot_pca_test_helper2(df_x, df_state, pca_results_state, 45, 65)"
   ]
  },
  {
   "cell_type": "markdown",
   "metadata": {},
   "source": [
    "Можно взять число компонент = 59"
   ]
  },
  {
   "cell_type": "markdown",
   "metadata": {},
   "source": [
    "New features_counts"
   ]
  },
  {
   "cell_type": "code",
   "execution_count": 225,
   "metadata": {},
   "outputs": [],
   "source": [
    "optimal_components_arousal = 12\n",
    "optimal_components_valence = 30\n",
    "optimal_components_state = 59"
   ]
  },
  {
   "cell_type": "code",
   "execution_count": 226,
   "metadata": {},
   "outputs": [],
   "source": [
    "def get_optimal_results(df_x, df_y, components=None):\n",
    "    new_dx = df_x\n",
    "    if  components:\n",
    "        new_dx = remake_df(df_x, components)\n",
    "    max_accuracy = max(get_accuracy(new_dx, df_y, 'svm'),\n",
    "                        get_accuracy(new_dx, df_y, 'knn'),\n",
    "                            get_accuracy(new_dx, df_y, 'mlp'))\n",
    "    return max_accuracy"
   ]
  },
  {
   "cell_type": "code",
   "execution_count": 227,
   "metadata": {},
   "outputs": [],
   "source": [
    "optimal_results_arousal = get_optimal_results(df_x, df_arousal, optimal_components_arousal)"
   ]
  },
  {
   "cell_type": "code",
   "execution_count": 228,
   "metadata": {},
   "outputs": [],
   "source": [
    "optimal_results_valence = get_optimal_results(df_x, df_valence, optimal_components_valence)"
   ]
  },
  {
   "cell_type": "code",
   "execution_count": 229,
   "metadata": {},
   "outputs": [],
   "source": [
    "optimal_results_state = get_optimal_results(df_x, df_state, optimal_components_state)"
   ]
  },
  {
   "cell_type": "markdown",
   "metadata": {},
   "source": [
    "## 5.4. Results"
   ]
  },
  {
   "cell_type": "code",
   "execution_count": 237,
   "metadata": {},
   "outputs": [
    {
     "name": "stdout",
     "output_type": "stream",
     "text": [
      "Base Arousal accuracy: 64.23\n",
      "Base Valence accuracy: 67.48\n",
      "Base State accuracy: 43.9\n"
     ]
    }
   ],
   "source": [
    "print('Base Arousal accuracy:', base_results_arousal)\n",
    "print('Base Valence accuracy:', base_results_valence)\n",
    "print('Base State accuracy:', base_results_state)"
   ]
  },
  {
   "cell_type": "code",
   "execution_count": 258,
   "metadata": {},
   "outputs": [
    {
     "name": "stdout",
     "output_type": "stream",
     "text": [
      "PCA Arousal accuracy: 69.11 . Components reduction:  352  ->  12\n",
      "PCA Valence accuracy: 73.17 . Components reduction:  352  ->  30\n",
      "PCA State accuracy: 49.59 . Components reduction:  352  ->  59\n"
     ]
    }
   ],
   "source": [
    "print('PCA Arousal accuracy:', optimal_results_arousal, '. Components reduction: ', len(features[0]), ' -> ', optimal_components_arousal)\n",
    "print('PCA Valence accuracy:', optimal_results_valence, '. Components reduction: ', len(features[0]), ' -> ', optimal_components_valence)\n",
    "print('PCA State accuracy:', optimal_results_state, '. Components reduction: ', len(features[0]), ' -> ', optimal_components_state)"
   ]
  },
  {
   "cell_type": "code",
   "execution_count": 235,
   "metadata": {},
   "outputs": [
    {
     "name": "stdout",
     "output_type": "stream",
     "text": [
      "Arousal prediction accuracy improvement with PCA: 64.23 -> 69.11 . Improvement: + 4.8799999999999955 .\n",
      "Valence prediction accuracy improvement with PCA: 67.48 -> 73.17 . Improvement: + 5.689999999999998 .\n",
      "State prediction accuracy improvement with PCA: 43.9 -> 49.59 . Improvement: + 5.690000000000005 .\n"
     ]
    }
   ],
   "source": [
    "print('Arousal prediction accuracy improvement with PCA:', base_results_arousal, '->', optimal_results_arousal, '. Improvement: +', optimal_results_arousal - base_results_arousal, '.')\n",
    "print('Valence prediction accuracy improvement with PCA:', base_results_valence, '->', optimal_results_valence, '. Improvement: +', optimal_results_valence - base_results_valence, '.')\n",
    "print('State prediction accuracy improvement with PCA:', base_results_state, '->', optimal_results_state, '. Improvement: +', optimal_results_state - base_results_state, '.')"
   ]
  },
  {
   "cell_type": "markdown",
   "metadata": {},
   "source": [
    "In colclusion, we achieved significant improvement in prediction accuracy. Moreover, we reduced dimensionality (now it's 10+ times smaller than in basic case), therefore proving PCA efficiency."
   ]
  },
  {
   "cell_type": "markdown",
   "metadata": {},
   "source": [
    "## 5.5. Bonus"
   ]
  },
  {
   "cell_type": "markdown",
   "metadata": {},
   "source": [
    "Let's try to visualize states using only 2 components and demonstrate this feature of PCA"
   ]
  },
  {
   "cell_type": "code",
   "execution_count": 238,
   "metadata": {},
   "outputs": [],
   "source": [
    "bonus_dx = pd.DataFrame(data=features, columns=header)"
   ]
  },
  {
   "cell_type": "code",
   "execution_count": 239,
   "metadata": {},
   "outputs": [],
   "source": [
    "bonus_dy = df_labels['State_name']"
   ]
  },
  {
   "cell_type": "code",
   "execution_count": 240,
   "metadata": {},
   "outputs": [],
   "source": [
    "bonus_dx_new = remake_df(bonus_dx, 2)\n",
    "bonus_df = pd.concat([bonus_dx_new, bonus_dy], axis = 1)"
   ]
  },
  {
   "cell_type": "code",
   "execution_count": 241,
   "metadata": {},
   "outputs": [
    {
     "data": {
      "text/html": [
       "<div>\n",
       "<style scoped>\n",
       "    .dataframe tbody tr th:only-of-type {\n",
       "        vertical-align: middle;\n",
       "    }\n",
       "\n",
       "    .dataframe tbody tr th {\n",
       "        vertical-align: top;\n",
       "    }\n",
       "\n",
       "    .dataframe thead th {\n",
       "        text-align: right;\n",
       "    }\n",
       "</style>\n",
       "<table border=\"1\" class=\"dataframe\">\n",
       "  <thead>\n",
       "    <tr style=\"text-align: right;\">\n",
       "      <th></th>\n",
       "      <th>pc_0</th>\n",
       "      <th>pc_1</th>\n",
       "      <th>State_name</th>\n",
       "    </tr>\n",
       "  </thead>\n",
       "  <tbody>\n",
       "    <tr>\n",
       "      <th>0</th>\n",
       "      <td>-7.994597</td>\n",
       "      <td>3.545904</td>\n",
       "      <td>HAHV</td>\n",
       "    </tr>\n",
       "    <tr>\n",
       "      <th>1</th>\n",
       "      <td>-7.862166</td>\n",
       "      <td>1.931786</td>\n",
       "      <td>HAHV</td>\n",
       "    </tr>\n",
       "    <tr>\n",
       "      <th>2</th>\n",
       "      <td>-7.907023</td>\n",
       "      <td>2.281443</td>\n",
       "      <td>HAHV</td>\n",
       "    </tr>\n",
       "    <tr>\n",
       "      <th>3</th>\n",
       "      <td>-7.808095</td>\n",
       "      <td>1.249290</td>\n",
       "      <td>HALV</td>\n",
       "    </tr>\n",
       "    <tr>\n",
       "      <th>4</th>\n",
       "      <td>-8.236244</td>\n",
       "      <td>5.171421</td>\n",
       "      <td>LAHV</td>\n",
       "    </tr>\n",
       "  </tbody>\n",
       "</table>\n",
       "</div>"
      ],
      "text/plain": [
       "       pc_0      pc_1 State_name\n",
       "0 -7.994597  3.545904       HAHV\n",
       "1 -7.862166  1.931786       HAHV\n",
       "2 -7.907023  2.281443       HAHV\n",
       "3 -7.808095  1.249290       HALV\n",
       "4 -8.236244  5.171421       LAHV"
      ]
     },
     "execution_count": 241,
     "metadata": {},
     "output_type": "execute_result"
    }
   ],
   "source": [
    "bonus_df.head(5)"
   ]
  },
  {
   "cell_type": "code",
   "execution_count": 244,
   "metadata": {},
   "outputs": [
    {
     "data": {
      "image/png": "[encoded data removed]",
      "text/plain": [
       "<Figure size 576x576 with 1 Axes>"
      ]
     },
     "metadata": {},
     "output_type": "display_data"
    }
   ],
   "source": [
    "fig = plt.figure(figsize = (8,8))\n",
    "ax = fig.add_subplot(1,1,1) \n",
    "ax.set_xlabel('Principal Component 1', fontsize = 15)\n",
    "ax.set_ylabel('Principal Component 2', fontsize = 15)\n",
    "ax.set_title('2 component PCA', fontsize = 20)\n",
    "targets = ['HAHV', 'LAHV', 'HALV', 'LALV']\n",
    "colors = ['r', 'g', 'b', 'y']\n",
    "for target, color in zip(targets,colors):\n",
    "    indicesToKeep = bonus_df['State_name'] == target\n",
    "    ax.scatter(bonus_df.loc[indicesToKeep, 'pc_0']\n",
    "               , bonus_df.loc[indicesToKeep, 'pc_1']\n",
    "               , c = color\n",
    "               , s = 50)\n",
    "ax.legend(targets)\n",
    "ax.grid()"
   ]
  },
  {
   "cell_type": "markdown",
   "metadata": {},
   "source": [
    "Maybe we'll be lucky with arousal or valence?"
   ]
  },
  {
   "cell_type": "code",
   "execution_count": 246,
   "metadata": {},
   "outputs": [
    {
     "data": {
      "text/html": [
       "<div>\n",
       "<style scoped>\n",
       "    .dataframe tbody tr th:only-of-type {\n",
       "        vertical-align: middle;\n",
       "    }\n",
       "\n",
       "    .dataframe tbody tr th {\n",
       "        vertical-align: top;\n",
       "    }\n",
       "\n",
       "    .dataframe thead th {\n",
       "        text-align: right;\n",
       "    }\n",
       "</style>\n",
       "<table border=\"1\" class=\"dataframe\">\n",
       "  <thead>\n",
       "    <tr style=\"text-align: right;\">\n",
       "      <th></th>\n",
       "      <th>pc_0</th>\n",
       "      <th>pc_1</th>\n",
       "      <th>Arousal</th>\n",
       "    </tr>\n",
       "  </thead>\n",
       "  <tbody>\n",
       "    <tr>\n",
       "      <th>0</th>\n",
       "      <td>-7.994597</td>\n",
       "      <td>3.545904</td>\n",
       "      <td>1</td>\n",
       "    </tr>\n",
       "    <tr>\n",
       "      <th>1</th>\n",
       "      <td>-7.862166</td>\n",
       "      <td>1.931786</td>\n",
       "      <td>1</td>\n",
       "    </tr>\n",
       "    <tr>\n",
       "      <th>2</th>\n",
       "      <td>-7.907023</td>\n",
       "      <td>2.281443</td>\n",
       "      <td>1</td>\n",
       "    </tr>\n",
       "    <tr>\n",
       "      <th>3</th>\n",
       "      <td>-7.808095</td>\n",
       "      <td>1.249290</td>\n",
       "      <td>1</td>\n",
       "    </tr>\n",
       "    <tr>\n",
       "      <th>4</th>\n",
       "      <td>-8.236244</td>\n",
       "      <td>5.171421</td>\n",
       "      <td>0</td>\n",
       "    </tr>\n",
       "  </tbody>\n",
       "</table>\n",
       "</div>"
      ],
      "text/plain": [
       "       pc_0      pc_1  Arousal\n",
       "0 -7.994597  3.545904        1\n",
       "1 -7.862166  1.931786        1\n",
       "2 -7.907023  2.281443        1\n",
       "3 -7.808095  1.249290        1\n",
       "4 -8.236244  5.171421        0"
      ]
     },
     "execution_count": 246,
     "metadata": {},
     "output_type": "execute_result"
    }
   ],
   "source": [
    "bonus_df = pd.concat([bonus_dx_new, df_arousal], axis = 1)\n",
    "bonus_df.head(5)"
   ]
  },
  {
   "cell_type": "code",
   "execution_count": 247,
   "metadata": {},
   "outputs": [
    {
     "data": {
      "image/png": "[encoded data removed]",
      "text/plain": [
       "<Figure size 576x576 with 1 Axes>"
      ]
     },
     "metadata": {},
     "output_type": "display_data"
    }
   ],
   "source": [
    "fig = plt.figure(figsize = (8,8))\n",
    "ax = fig.add_subplot(1,1,1) \n",
    "ax.set_xlabel('Principal Component 1', fontsize = 15)\n",
    "ax.set_ylabel('Principal Component 2', fontsize = 15)\n",
    "ax.set_title('2 component PCA', fontsize = 20)\n",
    "targets = [0, 1]\n",
    "colors = ['r', 'b']\n",
    "for target, color in zip(targets,colors):\n",
    "    indicesToKeep = bonus_df['Arousal'] == target\n",
    "    ax.scatter(bonus_df.loc[indicesToKeep, 'pc_0']\n",
    "               , bonus_df.loc[indicesToKeep, 'pc_1']\n",
    "               , c = color\n",
    "               , s = 50)\n",
    "ax.legend(targets)\n",
    "ax.grid()"
   ]
  },
  {
   "cell_type": "code",
   "execution_count": 248,
   "metadata": {},
   "outputs": [
    {
     "data": {
      "text/html": [
       "<div>\n",
       "<style scoped>\n",
       "    .dataframe tbody tr th:only-of-type {\n",
       "        vertical-align: middle;\n",
       "    }\n",
       "\n",
       "    .dataframe tbody tr th {\n",
       "        vertical-align: top;\n",
       "    }\n",
       "\n",
       "    .dataframe thead th {\n",
       "        text-align: right;\n",
       "    }\n",
       "</style>\n",
       "<table border=\"1\" class=\"dataframe\">\n",
       "  <thead>\n",
       "    <tr style=\"text-align: right;\">\n",
       "      <th></th>\n",
       "      <th>pc_0</th>\n",
       "      <th>pc_1</th>\n",
       "      <th>Valence</th>\n",
       "    </tr>\n",
       "  </thead>\n",
       "  <tbody>\n",
       "    <tr>\n",
       "      <th>0</th>\n",
       "      <td>-7.994597</td>\n",
       "      <td>3.545904</td>\n",
       "      <td>1</td>\n",
       "    </tr>\n",
       "    <tr>\n",
       "      <th>1</th>\n",
       "      <td>-7.862166</td>\n",
       "      <td>1.931786</td>\n",
       "      <td>1</td>\n",
       "    </tr>\n",
       "    <tr>\n",
       "      <th>2</th>\n",
       "      <td>-7.907023</td>\n",
       "      <td>2.281443</td>\n",
       "      <td>1</td>\n",
       "    </tr>\n",
       "    <tr>\n",
       "      <th>3</th>\n",
       "      <td>-7.808095</td>\n",
       "      <td>1.249290</td>\n",
       "      <td>0</td>\n",
       "    </tr>\n",
       "    <tr>\n",
       "      <th>4</th>\n",
       "      <td>-8.236244</td>\n",
       "      <td>5.171421</td>\n",
       "      <td>1</td>\n",
       "    </tr>\n",
       "  </tbody>\n",
       "</table>\n",
       "</div>"
      ],
      "text/plain": [
       "       pc_0      pc_1  Valence\n",
       "0 -7.994597  3.545904        1\n",
       "1 -7.862166  1.931786        1\n",
       "2 -7.907023  2.281443        1\n",
       "3 -7.808095  1.249290        0\n",
       "4 -8.236244  5.171421        1"
      ]
     },
     "execution_count": 248,
     "metadata": {},
     "output_type": "execute_result"
    }
   ],
   "source": [
    "bonus_df = pd.concat([bonus_dx_new, df_valence], axis = 1)\n",
    "bonus_df.head(5)"
   ]
  },
  {
   "cell_type": "code",
   "execution_count": 249,
   "metadata": {},
   "outputs": [
    {
     "data": {
      "image/png": "[encoded data removed]",
      "text/plain": [
       "<Figure size 576x576 with 1 Axes>"
      ]
     },
     "metadata": {},
     "output_type": "display_data"
    }
   ],
   "source": [
    "fig = plt.figure(figsize = (8,8))\n",
    "ax = fig.add_subplot(1,1,1) \n",
    "ax.set_xlabel('Principal Component 1', fontsize = 15)\n",
    "ax.set_ylabel('Principal Component 2', fontsize = 15)\n",
    "ax.set_title('2 component PCA', fontsize = 20)\n",
    "targets = [0, 1]\n",
    "colors = ['r', 'b']\n",
    "for target, color in zip(targets,colors):\n",
    "    indicesToKeep = bonus_df['Valence'] == target\n",
    "    ax.scatter(bonus_df.loc[indicesToKeep, 'pc_0']\n",
    "               , bonus_df.loc[indicesToKeep, 'pc_1']\n",
    "               , c = color\n",
    "               , s = 50)\n",
    "ax.legend(targets)\n",
    "ax.grid()"
   ]
  },
  {
   "cell_type": "markdown",
   "metadata": {},
   "source": [
    "No good results"
   ]
  }
 ],
 "metadata": {
  "colab": {
   "collapsed_sections": [
    "o_aflOWKGbi6",
    "44LeXIJKwFZQ",
    "MbR-yzBmklEv",
    "EMULqzxuv5rG",
    "qJuZ48FormXW",
    "PQL4IVupDmQg",
    "bSIWwDsNHauz",
    "AwdusXNJGfqg",
    "IO2bKkvRGx6-",
    "gS3uZ_ADGdkm",
    "VFh9c8v5IoM9",
    "XBF3IrqHMRn9",
    "XCq7PAqOMAej",
    "Ubyhu_2QpF3h",
    "UDyMmKX6e3wl",
    "UT6wjhN-Z_eY",
    "3M5NAOt2cnsK",
    "hdjUxI0hdi0v",
    "wN4162ixeK9w",
    "eQlRP4LrOMlk",
    "n1qYAemsZVGI",
    "rJGy_VeJMRbc",
    "aZkugf5yMbfG",
    "TAIvhiHIMfZK",
    "yOuzoYWn_4wj",
    "Qu8s_8E4Lq6X",
    "uHawo_dHLyUB",
    "icTQXIOKi3OI",
    "-gyBySB0i3OJ",
    "NrxRO1B94cRL"
   ],
   "name": "eeg-based-emotion-classification.ipynb",
   "provenance": []
  },
  "kernelspec": {
   "display_name": "Python 3",
   "language": "python",
   "name": "python3"
  },
  "language_info": {
   "codemirror_mode": {
    "name": "ipython",
    "version": 3
   },
   "file_extension": ".py",
   "mimetype": "text/x-python",
   "name": "python",
   "nbconvert_exporter": "python",
   "pygments_lexer": "ipython3",
   "version": "3.8.5"
  }
 },
 "nbformat": 4,
 "nbformat_minor": 1
}
